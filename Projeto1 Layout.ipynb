{
 "cells": [
  {
   "cell_type": "markdown",
   "metadata": {},
   "source": [
    "___\n",
    "# Ciência dos Dados - PROJETO 1"
   ]
  },
  {
   "cell_type": "markdown",
   "metadata": {},
   "source": [
    "Rodrigo Gatti Coutinho\n",
    "___"
   ]
  },
  {
   "cell_type": "markdown",
   "metadata": {},
   "source": [
    "Acesso a Internet (e TV)- como a renda de uma regiao influencia no acesso a internet."
   ]
  },
  {
   "cell_type": "markdown",
   "metadata": {},
   "source": [
    "___\n",
    "## Introdução\n",
    "\n",
    "Descreva aqui o que pretende analisar!\n",
    "\n",
    "Capriche no português!! \n",
    "Se quiser pode utilizar pesquisas semelhantes publicadas em sites confiáveis!!\n"
   ]
  },
  {
   "cell_type": "markdown",
   "metadata": {},
   "source": [
    "___\n",
    "## Análise e Resultados"
   ]
  },
  {
   "cell_type": "code",
   "execution_count": 191,
   "metadata": {
    "collapsed": true
   },
   "outputs": [],
   "source": [
    "%matplotlib inline\n",
    "import pandas as pd\n",
    "import matplotlib.pyplot as plt\n",
    "import numpy as np\n",
    "import os"
   ]
  },
  {
   "cell_type": "code",
   "execution_count": 192,
   "metadata": {},
   "outputs": [
    {
     "name": "stdout",
     "output_type": "stream",
     "text": [
      "Esperamos trabalhar no diretório\n",
      "C:\\Users\\Familia\\Documents\\insper\\ciencia dos dados\\CD17\\Projeto1\n"
     ]
    }
   ],
   "source": [
    "print('Esperamos trabalhar no diretório')\n",
    "print(os.getcwd())"
   ]
  },
  {
   "cell_type": "code",
   "execution_count": 193,
   "metadata": {
    "collapsed": true
   },
   "outputs": [],
   "source": [
    "#Se usar o arquivo descompactado\n",
    "#pd.read_csv('DOM2015.csv',sep=',')\n",
    "dados= pd.read_csv('DOM2013.csv', sep=',')\n",
    "#Se usar o arquivo compactado como está no dropbox púbico\n",
    "#pd.read_csv('DOM2015csv.zip', compression='zip', header=0, sep=',', quotechar='\"')"
   ]
  },
  {
   "cell_type": "code",
   "execution_count": 194,
   "metadata": {},
   "outputs": [
    {
     "name": "stderr",
     "output_type": "stream",
     "text": [
      "C:\\Users\\Familia\\Anaconda3\\lib\\site-packages\\ipykernel\\__main__.py:4: UserWarning: Boolean Series key will be reindexed to match DataFrame index.\n"
     ]
    },
    {
     "data": {
      "text/html": [
       "<div>\n",
       "<table border=\"1\" class=\"dataframe\">\n",
       "  <thead>\n",
       "    <tr style=\"text-align: right;\">\n",
       "      <th></th>\n",
       "      <th>UF</th>\n",
       "      <th>V4621</th>\n",
       "      <th>V0201</th>\n",
       "      <th>V0202</th>\n",
       "      <th>V02322</th>\n",
       "    </tr>\n",
       "  </thead>\n",
       "  <tbody>\n",
       "    <tr>\n",
       "      <th>2</th>\n",
       "      <td>11</td>\n",
       "      <td>350.0</td>\n",
       "      <td>1.0</td>\n",
       "      <td>4.0</td>\n",
       "      <td>4.0</td>\n",
       "    </tr>\n",
       "    <tr>\n",
       "      <th>3</th>\n",
       "      <td>11</td>\n",
       "      <td>339.0</td>\n",
       "      <td>1.0</td>\n",
       "      <td>2.0</td>\n",
       "      <td>4.0</td>\n",
       "    </tr>\n",
       "    <tr>\n",
       "      <th>4</th>\n",
       "      <td>11</td>\n",
       "      <td>266.0</td>\n",
       "      <td>1.0</td>\n",
       "      <td>2.0</td>\n",
       "      <td>4.0</td>\n",
       "    </tr>\n",
       "    <tr>\n",
       "      <th>5</th>\n",
       "      <td>11</td>\n",
       "      <td>400.0</td>\n",
       "      <td>1.0</td>\n",
       "      <td>2.0</td>\n",
       "      <td>4.0</td>\n",
       "    </tr>\n",
       "    <tr>\n",
       "      <th>6</th>\n",
       "      <td>11</td>\n",
       "      <td>411.0</td>\n",
       "      <td>1.0</td>\n",
       "      <td>2.0</td>\n",
       "      <td>4.0</td>\n",
       "    </tr>\n",
       "  </tbody>\n",
       "</table>\n",
       "</div>"
      ],
      "text/plain": [
       "   UF  V4621  V0201  V0202  V02322\n",
       "2  11  350.0    1.0    4.0     4.0\n",
       "3  11  339.0    1.0    2.0     4.0\n",
       "4  11  266.0    1.0    2.0     4.0\n",
       "5  11  400.0    1.0    2.0     4.0\n",
       "6  11  411.0    1.0    2.0     4.0"
      ]
     },
     "execution_count": 194,
     "metadata": {},
     "output_type": "execute_result"
    }
   ],
   "source": [
    "dados= dados.loc[:, [\"UF\",\"V4621\",\"V0201\",\"V0202\",\"V02322\"]]\n",
    "dados.to_csv(\"resumo.csv\") #faz com que salve em um arquivo no excel\n",
    "dados_nao_nulos= dados[pd.notnull(dados.V4621)&pd.notnull(dados.V0201)&pd.notnull(dados.UF)&pd.notnull(dados.V0202)&pd.notnull(dados.V02322)]\n",
    "dados_nao_nulos= dados_nao_nulos[dados.V4621!=999999999999]\n",
    "dados_nao_nulos.head()"
   ]
  },
  {
   "cell_type": "code",
   "execution_count": 195,
   "metadata": {},
   "outputs": [
    {
     "data": {
      "text/html": [
       "<div>\n",
       "<table border=\"1\" class=\"dataframe\">\n",
       "  <thead>\n",
       "    <tr style=\"text-align: right;\">\n",
       "      <th></th>\n",
       "      <th>UF</th>\n",
       "      <th>V4621</th>\n",
       "      <th>V0201</th>\n",
       "      <th>V0202</th>\n",
       "      <th>V02322</th>\n",
       "    </tr>\n",
       "  </thead>\n",
       "  <tbody>\n",
       "    <tr>\n",
       "      <th>2</th>\n",
       "      <td>Rondônia</td>\n",
       "      <td>350.0</td>\n",
       "      <td>Particular Permanente</td>\n",
       "      <td>Apartamento</td>\n",
       "      <td>Não</td>\n",
       "    </tr>\n",
       "    <tr>\n",
       "      <th>3</th>\n",
       "      <td>Rondônia</td>\n",
       "      <td>339.0</td>\n",
       "      <td>Particular Permanente</td>\n",
       "      <td>Casa</td>\n",
       "      <td>Não</td>\n",
       "    </tr>\n",
       "    <tr>\n",
       "      <th>4</th>\n",
       "      <td>Rondônia</td>\n",
       "      <td>266.0</td>\n",
       "      <td>Particular Permanente</td>\n",
       "      <td>Casa</td>\n",
       "      <td>Não</td>\n",
       "    </tr>\n",
       "    <tr>\n",
       "      <th>5</th>\n",
       "      <td>Rondônia</td>\n",
       "      <td>400.0</td>\n",
       "      <td>Particular Permanente</td>\n",
       "      <td>Casa</td>\n",
       "      <td>Não</td>\n",
       "    </tr>\n",
       "    <tr>\n",
       "      <th>6</th>\n",
       "      <td>Rondônia</td>\n",
       "      <td>411.0</td>\n",
       "      <td>Particular Permanente</td>\n",
       "      <td>Casa</td>\n",
       "      <td>Não</td>\n",
       "    </tr>\n",
       "  </tbody>\n",
       "</table>\n",
       "</div>"
      ],
      "text/plain": [
       "         UF  V4621                  V0201        V0202 V02322\n",
       "2  Rondônia  350.0  Particular Permanente  Apartamento    Não\n",
       "3  Rondônia  339.0  Particular Permanente         Casa    Não\n",
       "4  Rondônia  266.0  Particular Permanente         Casa    Não\n",
       "5  Rondônia  400.0  Particular Permanente         Casa    Não\n",
       "6  Rondônia  411.0  Particular Permanente         Casa    Não"
      ]
     },
     "execution_count": 195,
     "metadata": {},
     "output_type": "execute_result"
    }
   ],
   "source": [
    "#mudança categorias\n",
    "dados_nao_nulos.UF = dados.UF.astype('category')\n",
    "dados_nao_nulos.UF.cat.categories= (['Rondônia', 'Acre','Amazonas', 'Roraima','Pará', 'Amapá','Tocantis', 'Maranhão','Piauí', 'Ceará','Rio Grande do Norte', 'Paraíba','Pernambuco', 'Alagoas','Sergipe', 'Bahia','Minas Gerais', 'Espírito Santo','Rio de Janeiro', 'São Paulo','Paraná', 'Santa Catarina','Rio Grande do Sul', 'Mato Grosso do Sul','Mato Grosso', 'Goiás' , 'Distrito Federal'])\n",
    "dados_nao_nulos.V02322 = dados.V02322.astype('category')\n",
    "dados_nao_nulos.V02322.cat.categories= (['Sim', 'Não'])\n",
    "dados_nao_nulos.V0201 = dados.V0201.astype('category')\n",
    "dados_nao_nulos.V0201.cat.categories= (['Particular Permanente', 'Particular Improvisado', 'Coletivo'])\n",
    "dados_nao_nulos.V0202 = dados.V0202.astype('category')\n",
    "dados_nao_nulos.V0202.cat.categories= (['Casa', 'Apartamento', 'Comodo'])\n",
    "dados_nao_nulos.head()"
   ]
  },
  {
   "cell_type": "code",
   "execution_count": 196,
   "metadata": {},
   "outputs": [
    {
     "data": {
      "text/html": [
       "<div>\n",
       "<table border=\"1\" class=\"dataframe\">\n",
       "  <thead>\n",
       "    <tr style=\"text-align: right;\">\n",
       "      <th></th>\n",
       "      <th>UF</th>\n",
       "      <th>V4621</th>\n",
       "      <th>V0201</th>\n",
       "      <th>V0202</th>\n",
       "      <th>V02322</th>\n",
       "      <th>Regiao</th>\n",
       "    </tr>\n",
       "  </thead>\n",
       "  <tbody>\n",
       "    <tr>\n",
       "      <th>2</th>\n",
       "      <td>Rondônia</td>\n",
       "      <td>350.0</td>\n",
       "      <td>Particular Permanente</td>\n",
       "      <td>Apartamento</td>\n",
       "      <td>Não</td>\n",
       "      <td>Norte</td>\n",
       "    </tr>\n",
       "    <tr>\n",
       "      <th>3</th>\n",
       "      <td>Rondônia</td>\n",
       "      <td>339.0</td>\n",
       "      <td>Particular Permanente</td>\n",
       "      <td>Casa</td>\n",
       "      <td>Não</td>\n",
       "      <td>Norte</td>\n",
       "    </tr>\n",
       "    <tr>\n",
       "      <th>4</th>\n",
       "      <td>Rondônia</td>\n",
       "      <td>266.0</td>\n",
       "      <td>Particular Permanente</td>\n",
       "      <td>Casa</td>\n",
       "      <td>Não</td>\n",
       "      <td>Norte</td>\n",
       "    </tr>\n",
       "    <tr>\n",
       "      <th>5</th>\n",
       "      <td>Rondônia</td>\n",
       "      <td>400.0</td>\n",
       "      <td>Particular Permanente</td>\n",
       "      <td>Casa</td>\n",
       "      <td>Não</td>\n",
       "      <td>Norte</td>\n",
       "    </tr>\n",
       "    <tr>\n",
       "      <th>6</th>\n",
       "      <td>Rondônia</td>\n",
       "      <td>411.0</td>\n",
       "      <td>Particular Permanente</td>\n",
       "      <td>Casa</td>\n",
       "      <td>Não</td>\n",
       "      <td>Norte</td>\n",
       "    </tr>\n",
       "  </tbody>\n",
       "</table>\n",
       "</div>"
      ],
      "text/plain": [
       "         UF  V4621                  V0201        V0202 V02322 Regiao\n",
       "2  Rondônia  350.0  Particular Permanente  Apartamento    Não  Norte\n",
       "3  Rondônia  339.0  Particular Permanente         Casa    Não  Norte\n",
       "4  Rondônia  266.0  Particular Permanente         Casa    Não  Norte\n",
       "5  Rondônia  400.0  Particular Permanente         Casa    Não  Norte\n",
       "6  Rondônia  411.0  Particular Permanente         Casa    Não  Norte"
      ]
     },
     "execution_count": 196,
     "metadata": {},
     "output_type": "execute_result"
    }
   ],
   "source": [
    "dados_nao_nulos.loc[(dados_nao_nulos.UF=='Rondônia') | (dados_nao_nulos.UF=='Acre') | (dados_nao_nulos.UF=='Amazonas') | (dados_nao_nulos.UF=='Roraima') | (dados_nao_nulos.UF=='Pará') | (dados_nao_nulos.UF=='Amapá') | (dados_nao_nulos.UF=='Tocantins'),'Regiao'] = 'Norte'\n",
    "dados_nao_nulos.loc[(dados_nao_nulos.UF=='Maranhão') | (dados_nao_nulos.UF=='Piaui') | (dados_nao_nulos.UF=='Caerá') | (dados_nao_nulos.UF=='Rio Grande do Norte') | (dados_nao_nulos.UF=='Paraíba') | (dados_nao_nulos.UF=='Pernambuco') | (dados_nao_nulos.UF=='Alagoas') | (dados_nao_nulos.UF=='Sergipe') | (dados_nao_nulos.UF=='Bahia'),'Regiao'] = 'Nordeste'\n",
    "dados_nao_nulos.loc[(dados_nao_nulos.UF=='Minas Gerais') | (dados_nao_nulos.UF=='Espirito Santo') | (dados_nao_nulos.UF=='Rio de Janeiro') | (dados_nao_nulos.UF=='São Paulo'),'Regiao'] = 'Sudeste'\n",
    "dados_nao_nulos.loc[(dados_nao_nulos.UF=='Paraná') | (dados_nao_nulos.UF=='Santa Catarina') | (dados_nao_nulos.UF=='Rio Grande do Sul'),'Regiao'] = 'Sul'\n",
    "dados_nao_nulos.loc[(dados_nao_nulos.UF=='Mato Grosso do Sul') | (dados_nao_nulos.UF=='Mato Grosso') | (dados_nao_nulos.UF=='Goiás') | (dados_nao_nulos.UF=='Distrito Federal'),'Regiao'] = 'Centroeste'\n",
    "dados_nao_nulos.head()"
   ]
  },
  {
   "cell_type": "code",
   "execution_count": 197,
   "metadata": {},
   "outputs": [
    {
     "data": {
      "text/plain": [
       "0    Casa\n",
       "dtype: category\n",
       "Categories (3, object): [Casa, Apartamento, Comodo]"
      ]
     },
     "execution_count": 197,
     "metadata": {},
     "output_type": "execute_result"
    }
   ],
   "source": [
    "#moda dos tipos de domicilio-V0202\n",
    "dados_filtrados = dados_nao_nulos.V0202.mode()\n",
    "dados_filtrados"
   ]
  },
  {
   "cell_type": "code",
   "execution_count": 198,
   "metadata": {},
   "outputs": [
    {
     "data": {
      "text/plain": [
       "0    Particular Permanente\n",
       "dtype: category\n",
       "Categories (3, object): [Particular Permanente, Particular Improvisado, Coletivo]"
      ]
     },
     "execution_count": 198,
     "metadata": {},
     "output_type": "execute_result"
    }
   ],
   "source": [
    "#moda especie domicilio- V0201\n",
    "dados_filtrados1 = dados_nao_nulos.V0201.mode()\n",
    "dados_filtrados1"
   ]
  },
  {
   "cell_type": "code",
   "execution_count": 240,
   "metadata": {},
   "outputs": [
    {
     "data": {
      "text/html": [
       "<div>\n",
       "<table border=\"1\" class=\"dataframe\">\n",
       "  <thead>\n",
       "    <tr style=\"text-align: right;\">\n",
       "      <th></th>\n",
       "      <th>UF</th>\n",
       "      <th>V4621</th>\n",
       "      <th>V0201</th>\n",
       "      <th>V0202</th>\n",
       "      <th>V02322</th>\n",
       "      <th>Regiao</th>\n",
       "    </tr>\n",
       "  </thead>\n",
       "  <tbody>\n",
       "    <tr>\n",
       "      <th>2</th>\n",
       "      <td>Rondônia</td>\n",
       "      <td>350.0</td>\n",
       "      <td>Particular Permanente</td>\n",
       "      <td>Apartamento</td>\n",
       "      <td>Não</td>\n",
       "      <td>Norte</td>\n",
       "    </tr>\n",
       "    <tr>\n",
       "      <th>3</th>\n",
       "      <td>Rondônia</td>\n",
       "      <td>339.0</td>\n",
       "      <td>Particular Permanente</td>\n",
       "      <td>Casa</td>\n",
       "      <td>Não</td>\n",
       "      <td>Norte</td>\n",
       "    </tr>\n",
       "    <tr>\n",
       "      <th>4</th>\n",
       "      <td>Rondônia</td>\n",
       "      <td>266.0</td>\n",
       "      <td>Particular Permanente</td>\n",
       "      <td>Casa</td>\n",
       "      <td>Não</td>\n",
       "      <td>Norte</td>\n",
       "    </tr>\n",
       "    <tr>\n",
       "      <th>5</th>\n",
       "      <td>Rondônia</td>\n",
       "      <td>400.0</td>\n",
       "      <td>Particular Permanente</td>\n",
       "      <td>Casa</td>\n",
       "      <td>Não</td>\n",
       "      <td>Norte</td>\n",
       "    </tr>\n",
       "    <tr>\n",
       "      <th>6</th>\n",
       "      <td>Rondônia</td>\n",
       "      <td>411.0</td>\n",
       "      <td>Particular Permanente</td>\n",
       "      <td>Casa</td>\n",
       "      <td>Não</td>\n",
       "      <td>Norte</td>\n",
       "    </tr>\n",
       "  </tbody>\n",
       "</table>\n",
       "</div>"
      ],
      "text/plain": [
       "         UF  V4621                  V0201        V0202 V02322 Regiao\n",
       "2  Rondônia  350.0  Particular Permanente  Apartamento    Não  Norte\n",
       "3  Rondônia  339.0  Particular Permanente         Casa    Não  Norte\n",
       "4  Rondônia  266.0  Particular Permanente         Casa    Não  Norte\n",
       "5  Rondônia  400.0  Particular Permanente         Casa    Não  Norte\n",
       "6  Rondônia  411.0  Particular Permanente         Casa    Não  Norte"
      ]
     },
     "execution_count": 240,
     "metadata": {},
     "output_type": "execute_result"
    }
   ],
   "source": [
    "#criar novo arquivo com as modas de cada estado\n",
    "dadosfiltrados= dados_nao_nulos[(dados_nao_nulos.V0201== 'Particular Permanente') & (dados_nao_nulos.V0202== 'Casa') | (dados_nao_nulos.V0202=='Apartamento')]\n",
    "dadosfiltrados.head()"
   ]
  },
  {
   "cell_type": "code",
   "execution_count": 241,
   "metadata": {},
   "outputs": [
    {
     "data": {
      "text/html": [
       "<div>\n",
       "<table border=\"1\" class=\"dataframe\">\n",
       "  <thead>\n",
       "    <tr style=\"text-align: right;\">\n",
       "      <th></th>\n",
       "      <th>UF</th>\n",
       "      <th>V4621</th>\n",
       "      <th>V0201</th>\n",
       "      <th>V0202</th>\n",
       "      <th>V02322</th>\n",
       "      <th>Regiao</th>\n",
       "    </tr>\n",
       "  </thead>\n",
       "  <tbody>\n",
       "    <tr>\n",
       "      <th>2</th>\n",
       "      <td>Rondônia</td>\n",
       "      <td>350.0</td>\n",
       "      <td>Particular Permanente</td>\n",
       "      <td>Apartamento</td>\n",
       "      <td>Não</td>\n",
       "      <td>Norte</td>\n",
       "    </tr>\n",
       "    <tr>\n",
       "      <th>3</th>\n",
       "      <td>Rondônia</td>\n",
       "      <td>339.0</td>\n",
       "      <td>Particular Permanente</td>\n",
       "      <td>Casa</td>\n",
       "      <td>Não</td>\n",
       "      <td>Norte</td>\n",
       "    </tr>\n",
       "    <tr>\n",
       "      <th>4</th>\n",
       "      <td>Rondônia</td>\n",
       "      <td>266.0</td>\n",
       "      <td>Particular Permanente</td>\n",
       "      <td>Casa</td>\n",
       "      <td>Não</td>\n",
       "      <td>Norte</td>\n",
       "    </tr>\n",
       "    <tr>\n",
       "      <th>5</th>\n",
       "      <td>Rondônia</td>\n",
       "      <td>400.0</td>\n",
       "      <td>Particular Permanente</td>\n",
       "      <td>Casa</td>\n",
       "      <td>Não</td>\n",
       "      <td>Norte</td>\n",
       "    </tr>\n",
       "    <tr>\n",
       "      <th>6</th>\n",
       "      <td>Rondônia</td>\n",
       "      <td>411.0</td>\n",
       "      <td>Particular Permanente</td>\n",
       "      <td>Casa</td>\n",
       "      <td>Não</td>\n",
       "      <td>Norte</td>\n",
       "    </tr>\n",
       "  </tbody>\n",
       "</table>\n",
       "</div>"
      ],
      "text/plain": [
       "         UF  V4621                  V0201        V0202 V02322 Regiao\n",
       "2  Rondônia  350.0  Particular Permanente  Apartamento    Não  Norte\n",
       "3  Rondônia  339.0  Particular Permanente         Casa    Não  Norte\n",
       "4  Rondônia  266.0  Particular Permanente         Casa    Não  Norte\n",
       "5  Rondônia  400.0  Particular Permanente         Casa    Não  Norte\n",
       "6  Rondônia  411.0  Particular Permanente         Casa    Não  Norte"
      ]
     },
     "execution_count": 241,
     "metadata": {},
     "output_type": "execute_result"
    }
   ],
   "source": [
    "#grafico de quantidade de sim ou nao por regiao\n",
    "tabelanorte= dadosfiltrados[dadosfiltrados.Regiao=='Norte']\n",
    "tabelanorte.head()"
   ]
  },
  {
   "cell_type": "code",
   "execution_count": 242,
   "metadata": {},
   "outputs": [
    {
     "data": {
      "text/plain": [
       "<matplotlib.text.Text at 0x23855476f28>"
      ]
     },
     "execution_count": 242,
     "metadata": {},
     "output_type": "execute_result"
    },
    {
     "data": {
      "image/png": "[encoded data removed]",
      "text/plain": [
       "<matplotlib.figure.Figure at 0x238552fceb8>"
      ]
     },
     "metadata": {},
     "output_type": "display_data"
    }
   ],
   "source": [
    "plt.subplot(121)\n",
    "tabelanorte1= tabelanorte.V02322.value_counts()\n",
    "tabelanorte1.plot(kind='pie', colors=('blue','red'), autopct=\"%0.2f\",legend=False)\n",
    "plt.subplot(122)\n",
    "faixa = range(10,5000,500)\n",
    "renda_Nordeste = pd.cut(tabelanorte.V4621, bins=faixa)\n",
    "renda_Nordeste.value_counts(sort=False, normalize=True)*100\n",
    "plot = tabelanorte.V4621.plot.hist(bins=faixa,title='Gráfico de Renda Norte', figsize=(6, 6), alpha=0.9)\n",
    "plt.ylabel('Frequência absoluta')\n",
    "plt.xlabel('renda (em reais)')"
   ]
  },
  {
   "cell_type": "code",
   "execution_count": 243,
   "metadata": {},
   "outputs": [
    {
     "data": {
      "text/html": [
       "<div>\n",
       "<table border=\"1\" class=\"dataframe\">\n",
       "  <thead>\n",
       "    <tr style=\"text-align: right;\">\n",
       "      <th></th>\n",
       "      <th>UF</th>\n",
       "      <th>V4621</th>\n",
       "      <th>V0201</th>\n",
       "      <th>V0202</th>\n",
       "      <th>V02322</th>\n",
       "      <th>Regiao</th>\n",
       "    </tr>\n",
       "  </thead>\n",
       "  <tbody>\n",
       "    <tr>\n",
       "      <th>21219</th>\n",
       "      <td>Maranhão</td>\n",
       "      <td>1534.0</td>\n",
       "      <td>Particular Permanente</td>\n",
       "      <td>Casa</td>\n",
       "      <td>Não</td>\n",
       "      <td>Nordeste</td>\n",
       "    </tr>\n",
       "    <tr>\n",
       "      <th>21220</th>\n",
       "      <td>Maranhão</td>\n",
       "      <td>254.0</td>\n",
       "      <td>Particular Permanente</td>\n",
       "      <td>Casa</td>\n",
       "      <td>Não</td>\n",
       "      <td>Nordeste</td>\n",
       "    </tr>\n",
       "    <tr>\n",
       "      <th>21221</th>\n",
       "      <td>Maranhão</td>\n",
       "      <td>452.0</td>\n",
       "      <td>Particular Permanente</td>\n",
       "      <td>Casa</td>\n",
       "      <td>Não</td>\n",
       "      <td>Nordeste</td>\n",
       "    </tr>\n",
       "    <tr>\n",
       "      <th>21223</th>\n",
       "      <td>Maranhão</td>\n",
       "      <td>240.0</td>\n",
       "      <td>Particular Permanente</td>\n",
       "      <td>Casa</td>\n",
       "      <td>Não</td>\n",
       "      <td>Nordeste</td>\n",
       "    </tr>\n",
       "    <tr>\n",
       "      <th>21224</th>\n",
       "      <td>Maranhão</td>\n",
       "      <td>158.0</td>\n",
       "      <td>Particular Permanente</td>\n",
       "      <td>Casa</td>\n",
       "      <td>Não</td>\n",
       "      <td>Nordeste</td>\n",
       "    </tr>\n",
       "  </tbody>\n",
       "</table>\n",
       "</div>"
      ],
      "text/plain": [
       "             UF   V4621                  V0201 V0202 V02322    Regiao\n",
       "21219  Maranhão  1534.0  Particular Permanente  Casa    Não  Nordeste\n",
       "21220  Maranhão   254.0  Particular Permanente  Casa    Não  Nordeste\n",
       "21221  Maranhão   452.0  Particular Permanente  Casa    Não  Nordeste\n",
       "21223  Maranhão   240.0  Particular Permanente  Casa    Não  Nordeste\n",
       "21224  Maranhão   158.0  Particular Permanente  Casa    Não  Nordeste"
      ]
     },
     "execution_count": 243,
     "metadata": {},
     "output_type": "execute_result"
    }
   ],
   "source": [
    "tabelanordeste= dadosfiltrados[dadosfiltrados.Regiao=='Nordeste']\n",
    "tabelanordeste.head()"
   ]
  },
  {
   "cell_type": "code",
   "execution_count": 244,
   "metadata": {},
   "outputs": [
    {
     "data": {
      "text/plain": [
       "<matplotlib.text.Text at 0x238553f2358>"
      ]
     },
     "execution_count": 244,
     "metadata": {},
     "output_type": "execute_result"
    },
    {
     "data": {
      "image/png": "[encoded data removed]",
      "text/plain": [
       "<matplotlib.figure.Figure at 0x23855625630>"
      ]
     },
     "metadata": {},
     "output_type": "display_data"
    }
   ],
   "source": [
    "plt.subplot(121)\n",
    "tabelanordeste1= tabelanordeste.V02322.value_counts()\n",
    "tabelanordeste1.plot(kind='pie', colors=('blue','red'), autopct=\"%0.2f\",legend=False)\n",
    "plt.subplot(122)\n",
    "faixa = range(10,5000,500)\n",
    "renda_Nordeste = pd.cut(tabelanordeste.V4621, bins=faixa)\n",
    "renda_Nordeste.value_counts(sort=False, normalize=True)*100\n",
    "plot = tabelanordeste.V4621.plot.hist(bins=faixa,title='Gráfico de Renda Nordeste', figsize=(6, 6), alpha=0.9)\n",
    "plt.ylabel('Frequência absoluta')\n",
    "plt.xlabel('renda (em reais)')"
   ]
  },
  {
   "cell_type": "code",
   "execution_count": 245,
   "metadata": {},
   "outputs": [
    {
     "data": {
      "text/html": [
       "<div>\n",
       "<table border=\"1\" class=\"dataframe\">\n",
       "  <thead>\n",
       "    <tr style=\"text-align: right;\">\n",
       "      <th></th>\n",
       "      <th>UF</th>\n",
       "      <th>V4621</th>\n",
       "      <th>V0201</th>\n",
       "      <th>V0202</th>\n",
       "      <th>V02322</th>\n",
       "      <th>Regiao</th>\n",
       "    </tr>\n",
       "  </thead>\n",
       "  <tbody>\n",
       "    <tr>\n",
       "      <th>63842</th>\n",
       "      <td>Minas Gerais</td>\n",
       "      <td>1281.0</td>\n",
       "      <td>Particular Permanente</td>\n",
       "      <td>Casa</td>\n",
       "      <td>Não</td>\n",
       "      <td>Sudeste</td>\n",
       "    </tr>\n",
       "    <tr>\n",
       "      <th>63843</th>\n",
       "      <td>Minas Gerais</td>\n",
       "      <td>729.0</td>\n",
       "      <td>Particular Permanente</td>\n",
       "      <td>Casa</td>\n",
       "      <td>Sim</td>\n",
       "      <td>Sudeste</td>\n",
       "    </tr>\n",
       "    <tr>\n",
       "      <th>63844</th>\n",
       "      <td>Minas Gerais</td>\n",
       "      <td>2750.0</td>\n",
       "      <td>Particular Permanente</td>\n",
       "      <td>Casa</td>\n",
       "      <td>Sim</td>\n",
       "      <td>Sudeste</td>\n",
       "    </tr>\n",
       "    <tr>\n",
       "      <th>63845</th>\n",
       "      <td>Minas Gerais</td>\n",
       "      <td>678.0</td>\n",
       "      <td>Particular Permanente</td>\n",
       "      <td>Casa</td>\n",
       "      <td>Não</td>\n",
       "      <td>Sudeste</td>\n",
       "    </tr>\n",
       "    <tr>\n",
       "      <th>63846</th>\n",
       "      <td>Minas Gerais</td>\n",
       "      <td>421.0</td>\n",
       "      <td>Particular Permanente</td>\n",
       "      <td>Apartamento</td>\n",
       "      <td>Sim</td>\n",
       "      <td>Sudeste</td>\n",
       "    </tr>\n",
       "  </tbody>\n",
       "</table>\n",
       "</div>"
      ],
      "text/plain": [
       "                 UF   V4621                  V0201        V0202 V02322  \\\n",
       "63842  Minas Gerais  1281.0  Particular Permanente         Casa    Não   \n",
       "63843  Minas Gerais   729.0  Particular Permanente         Casa    Sim   \n",
       "63844  Minas Gerais  2750.0  Particular Permanente         Casa    Sim   \n",
       "63845  Minas Gerais   678.0  Particular Permanente         Casa    Não   \n",
       "63846  Minas Gerais   421.0  Particular Permanente  Apartamento    Sim   \n",
       "\n",
       "        Regiao  \n",
       "63842  Sudeste  \n",
       "63843  Sudeste  \n",
       "63844  Sudeste  \n",
       "63845  Sudeste  \n",
       "63846  Sudeste  "
      ]
     },
     "execution_count": 245,
     "metadata": {},
     "output_type": "execute_result"
    }
   ],
   "source": [
    "tabelasudeste= dadosfiltrados[dadosfiltrados.Regiao=='Sudeste']\n",
    "tabelasudeste.head()"
   ]
  },
  {
   "cell_type": "code",
   "execution_count": 246,
   "metadata": {},
   "outputs": [
    {
     "data": {
      "text/plain": [
       "<matplotlib.text.Text at 0x23855a06630>"
      ]
     },
     "execution_count": 246,
     "metadata": {},
     "output_type": "execute_result"
    },
    {
     "data": {
      "image/png": "[encoded data removed]",
      "text/plain": [
       "<matplotlib.figure.Figure at 0x23855882828>"
      ]
     },
     "metadata": {},
     "output_type": "display_data"
    }
   ],
   "source": [
    "plt.subplot(121)\n",
    "tabelasudeste1= tabelasudeste.V02322.value_counts()\n",
    "tabelasudeste1.plot(kind='pie', colors=('blue','red'), autopct=\"%0.2f\",legend=False)\n",
    "plt.subplot(122)\n",
    "faixa = range(10,5000,500)\n",
    "renda_Sudeste = pd.cut(tabelasudeste.V4621, bins=faixa)\n",
    "renda_Sudeste.value_counts(sort=False, normalize=True)*100\n",
    "plot = tabelasudeste.V4621.plot.hist(bins=faixa,title='Gráfico de Renda sudeste', figsize=(6, 6), alpha=0.9)\n",
    "plt.ylabel('Frequência absoluta')\n",
    "plt.xlabel('renda (em reais)')"
   ]
  },
  {
   "cell_type": "code",
   "execution_count": 247,
   "metadata": {},
   "outputs": [
    {
     "data": {
      "text/html": [
       "<div>\n",
       "<table border=\"1\" class=\"dataframe\">\n",
       "  <thead>\n",
       "    <tr style=\"text-align: right;\">\n",
       "      <th></th>\n",
       "      <th>UF</th>\n",
       "      <th>V4621</th>\n",
       "      <th>V0201</th>\n",
       "      <th>V0202</th>\n",
       "      <th>V02322</th>\n",
       "      <th>Regiao</th>\n",
       "    </tr>\n",
       "  </thead>\n",
       "  <tbody>\n",
       "    <tr>\n",
       "      <th>108606</th>\n",
       "      <td>Paraná</td>\n",
       "      <td>1650.0</td>\n",
       "      <td>Particular Permanente</td>\n",
       "      <td>Casa</td>\n",
       "      <td>Sim</td>\n",
       "      <td>Sul</td>\n",
       "    </tr>\n",
       "    <tr>\n",
       "      <th>108607</th>\n",
       "      <td>Paraná</td>\n",
       "      <td>400.0</td>\n",
       "      <td>Particular Permanente</td>\n",
       "      <td>Casa</td>\n",
       "      <td>Não</td>\n",
       "      <td>Sul</td>\n",
       "    </tr>\n",
       "    <tr>\n",
       "      <th>108608</th>\n",
       "      <td>Paraná</td>\n",
       "      <td>833.0</td>\n",
       "      <td>Particular Permanente</td>\n",
       "      <td>Casa</td>\n",
       "      <td>Não</td>\n",
       "      <td>Sul</td>\n",
       "    </tr>\n",
       "    <tr>\n",
       "      <th>108609</th>\n",
       "      <td>Paraná</td>\n",
       "      <td>347.0</td>\n",
       "      <td>Particular Permanente</td>\n",
       "      <td>Casa</td>\n",
       "      <td>Não</td>\n",
       "      <td>Sul</td>\n",
       "    </tr>\n",
       "    <tr>\n",
       "      <th>108610</th>\n",
       "      <td>Paraná</td>\n",
       "      <td>678.0</td>\n",
       "      <td>Particular Permanente</td>\n",
       "      <td>Casa</td>\n",
       "      <td>Não</td>\n",
       "      <td>Sul</td>\n",
       "    </tr>\n",
       "  </tbody>\n",
       "</table>\n",
       "</div>"
      ],
      "text/plain": [
       "            UF   V4621                  V0201 V0202 V02322 Regiao\n",
       "108606  Paraná  1650.0  Particular Permanente  Casa    Sim    Sul\n",
       "108607  Paraná   400.0  Particular Permanente  Casa    Não    Sul\n",
       "108608  Paraná   833.0  Particular Permanente  Casa    Não    Sul\n",
       "108609  Paraná   347.0  Particular Permanente  Casa    Não    Sul\n",
       "108610  Paraná   678.0  Particular Permanente  Casa    Não    Sul"
      ]
     },
     "execution_count": 247,
     "metadata": {},
     "output_type": "execute_result"
    }
   ],
   "source": [
    "tabelasul= dadosfiltrados[dadosfiltrados.Regiao=='Sul']\n",
    "tabelasul.head()"
   ]
  },
  {
   "cell_type": "code",
   "execution_count": 248,
   "metadata": {},
   "outputs": [
    {
     "data": {
      "text/plain": [
       "<matplotlib.axes._subplots.AxesSubplot at 0x238532f2400>"
      ]
     },
     "execution_count": 248,
     "metadata": {},
     "output_type": "execute_result"
    },
    {
     "data": {
      "image/png": "[encoded data removed]",
      "text/plain": [
       "<matplotlib.figure.Figure at 0x23855899eb8>"
      ]
     },
     "metadata": {},
     "output_type": "display_data"
    }
   ],
   "source": [
    "plt.subplot(121)\n",
    "tabelasul1= tabelasul.V02322.value_counts()\n",
    "tabelasul1.plot(kind='pie', colors=('blue','red'), autopct=\"%0.2f\",legend=False)\n",
    "plt.subplot(122)"
   ]
  },
  {
   "cell_type": "code",
   "execution_count": 249,
   "metadata": {},
   "outputs": [
    {
     "data": {
      "text/html": [
       "<div>\n",
       "<table border=\"1\" class=\"dataframe\">\n",
       "  <thead>\n",
       "    <tr style=\"text-align: right;\">\n",
       "      <th></th>\n",
       "      <th>UF</th>\n",
       "      <th>V4621</th>\n",
       "      <th>V0201</th>\n",
       "      <th>V0202</th>\n",
       "      <th>V02322</th>\n",
       "      <th>Regiao</th>\n",
       "    </tr>\n",
       "  </thead>\n",
       "  <tbody>\n",
       "    <tr>\n",
       "      <th>132718</th>\n",
       "      <td>Mato Grosso do Sul</td>\n",
       "      <td>5000.0</td>\n",
       "      <td>Particular Permanente</td>\n",
       "      <td>Casa</td>\n",
       "      <td>Não</td>\n",
       "      <td>Centroeste</td>\n",
       "    </tr>\n",
       "    <tr>\n",
       "      <th>132720</th>\n",
       "      <td>Mato Grosso do Sul</td>\n",
       "      <td>760.0</td>\n",
       "      <td>Particular Permanente</td>\n",
       "      <td>Casa</td>\n",
       "      <td>Sim</td>\n",
       "      <td>Centroeste</td>\n",
       "    </tr>\n",
       "    <tr>\n",
       "      <th>132721</th>\n",
       "      <td>Mato Grosso do Sul</td>\n",
       "      <td>364.0</td>\n",
       "      <td>Particular Permanente</td>\n",
       "      <td>Casa</td>\n",
       "      <td>Não</td>\n",
       "      <td>Centroeste</td>\n",
       "    </tr>\n",
       "    <tr>\n",
       "      <th>132722</th>\n",
       "      <td>Mato Grosso do Sul</td>\n",
       "      <td>1300.0</td>\n",
       "      <td>Particular Permanente</td>\n",
       "      <td>Casa</td>\n",
       "      <td>Sim</td>\n",
       "      <td>Centroeste</td>\n",
       "    </tr>\n",
       "    <tr>\n",
       "      <th>132723</th>\n",
       "      <td>Mato Grosso do Sul</td>\n",
       "      <td>4339.0</td>\n",
       "      <td>Particular Permanente</td>\n",
       "      <td>Casa</td>\n",
       "      <td>Sim</td>\n",
       "      <td>Centroeste</td>\n",
       "    </tr>\n",
       "  </tbody>\n",
       "</table>\n",
       "</div>"
      ],
      "text/plain": [
       "                        UF   V4621                  V0201 V0202 V02322  \\\n",
       "132718  Mato Grosso do Sul  5000.0  Particular Permanente  Casa    Não   \n",
       "132720  Mato Grosso do Sul   760.0  Particular Permanente  Casa    Sim   \n",
       "132721  Mato Grosso do Sul   364.0  Particular Permanente  Casa    Não   \n",
       "132722  Mato Grosso do Sul  1300.0  Particular Permanente  Casa    Sim   \n",
       "132723  Mato Grosso do Sul  4339.0  Particular Permanente  Casa    Sim   \n",
       "\n",
       "            Regiao  \n",
       "132718  Centroeste  \n",
       "132720  Centroeste  \n",
       "132721  Centroeste  \n",
       "132722  Centroeste  \n",
       "132723  Centroeste  "
      ]
     },
     "execution_count": 249,
     "metadata": {},
     "output_type": "execute_result"
    }
   ],
   "source": [
    "tabelacentroeste= dadosfiltrados[dadosfiltrados.Regiao=='Centroeste']\n",
    "tabelacentroeste.head()"
   ]
  },
  {
   "cell_type": "code",
   "execution_count": 250,
   "metadata": {},
   "outputs": [
    {
     "data": {
      "text/plain": [
       "<matplotlib.text.Text at 0x2385582e278>"
      ]
     },
     "execution_count": 250,
     "metadata": {},
     "output_type": "execute_result"
    },
    {
     "data": {
      "image/png": "[encoded data removed]",
      "text/plain": [
       "<matplotlib.figure.Figure at 0x23855766860>"
      ]
     },
     "metadata": {},
     "output_type": "display_data"
    }
   ],
   "source": [
    "plt.subplot(121)\n",
    "tabelacentroeste1= tabelacentroeste.V02322.value_counts()\n",
    "tabelacentroeste1.plot(kind='pie', colors=('blue','red'), autopct=\"%0.2f\",legend=False)\n",
    "plt.subplot(122)\n",
    "faixa = range(10,5000,500)\n",
    "renda_Sul = pd.cut(tabelasul.V4621, bins=faixa)\n",
    "renda_Sul.value_counts(sort=False, normalize=True)*100\n",
    "plot = tabelasul.V4621.plot.hist(bins=faixa,title='Gráfico de Renda Sul', figsize=(6, 6), alpha=0.9)\n",
    "plt.ylabel('Frequência absoluta')\n",
    "plt.xlabel('renda (em reais)')"
   ]
  },
  {
   "cell_type": "code",
   "execution_count": 251,
   "metadata": {},
   "outputs": [],
   "source": [
    "#fazer a media das rendas de cada regiao"
   ]
  },
  {
   "cell_type": "code",
   "execution_count": 252,
   "metadata": {},
   "outputs": [
    {
     "data": {
      "text/plain": [
       "789.7126239920074"
      ]
     },
     "execution_count": 252,
     "metadata": {},
     "output_type": "execute_result"
    }
   ],
   "source": [
    "#regiao norte\n",
    "tabelanorte['V4621'].mean()"
   ]
  },
  {
   "cell_type": "code",
   "execution_count": 253,
   "metadata": {},
   "outputs": [
    {
     "data": {
      "text/plain": [
       "790.2600953626735"
      ]
     },
     "execution_count": 253,
     "metadata": {},
     "output_type": "execute_result"
    }
   ],
   "source": [
    "#regiao nordeste\n",
    "tabelanordeste['V4621'].mean()"
   ]
  },
  {
   "cell_type": "code",
   "execution_count": 254,
   "metadata": {},
   "outputs": [
    {
     "data": {
      "text/plain": [
       "1331.4461175558213"
      ]
     },
     "execution_count": 254,
     "metadata": {},
     "output_type": "execute_result"
    }
   ],
   "source": [
    "#regiao sudeste\n",
    "tabelasudeste['V4621'].mean()"
   ]
  },
  {
   "cell_type": "code",
   "execution_count": 255,
   "metadata": {},
   "outputs": [
    {
     "data": {
      "text/plain": [
       "1396.6557623210167"
      ]
     },
     "execution_count": 255,
     "metadata": {},
     "output_type": "execute_result"
    }
   ],
   "source": [
    "#regiao sul\n",
    "tabelasul['V4621'].mean()"
   ]
  },
  {
   "cell_type": "code",
   "execution_count": 256,
   "metadata": {},
   "outputs": [
    {
     "data": {
      "text/plain": [
       "1406.8722805221398"
      ]
     },
     "execution_count": 256,
     "metadata": {},
     "output_type": "execute_result"
    }
   ],
   "source": [
    "#regiao centroeste\n",
    "tabelacentroeste['V4621'].mean()"
   ]
  },
  {
   "cell_type": "markdown",
   "metadata": {},
   "source": [
    "___\n",
    "## Conclusão "
   ]
  },
  {
   "cell_type": "markdown",
   "metadata": {
    "collapsed": true
   },
   "source": [
    "Descreva aqui suas conclusões!"
   ]
  },
  {
   "cell_type": "code",
   "execution_count": null,
   "metadata": {
    "collapsed": true
   },
   "outputs": [],
   "source": []
  }
 ],
 "metadata": {
  "anaconda-cloud": {},
  "kernelspec": {
   "display_name": "Python 3",
   "language": "python",
   "name": "python3"
  },
  "language_info": {
   "codemirror_mode": {
    "name": "ipython",
    "version": 3
   },
   "file_extension": ".py",
   "mimetype": "text/x-python",
   "name": "python",
   "nbconvert_exporter": "python",
   "pygments_lexer": "ipython3",
   "version": "3.6.0"
  }
 },
 "nbformat": 4,
 "nbformat_minor": 1
}
