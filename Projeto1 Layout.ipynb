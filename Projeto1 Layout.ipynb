{
 "cells": [
  {
   "cell_type": "markdown",
   "metadata": {},
   "source": [
    "___\n",
    "# Ciência dos Dados - PROJETO 1"
   ]
  },
  {
   "cell_type": "markdown",
   "metadata": {},
   "source": [
    "Rodrigo Gatti Coutinho\n",
    "___"
   ]
  },
  {
   "cell_type": "markdown",
   "metadata": {},
   "source": [
    "Acesso a Internet (e TV)- como a renda de uma regiao influencia no acesso a internet."
   ]
  },
  {
   "cell_type": "markdown",
   "metadata": {},
   "source": [
    "___\n",
    "## Introdução\n",
    "\n",
    "Descreva aqui o que pretende analisar!\n",
    "\n",
    "Capriche no português!! \n",
    "Se quiser pode utilizar pesquisas semelhantes publicadas em sites confiáveis!!\n"
   ]
  },
  {
   "cell_type": "markdown",
   "metadata": {},
   "source": [
    "___\n",
    "## Análise e Resultados"
   ]
  },
  {
   "cell_type": "code",
   "execution_count": 3,
   "metadata": {
    "collapsed": true
   },
   "outputs": [],
   "source": [
    "%matplotlib inline\n",
    "import pandas as pd\n",
    "import matplotlib.pyplot as plt\n",
    "import numpy as np\n",
    "import os"
   ]
  },
  {
   "cell_type": "code",
   "execution_count": 4,
   "metadata": {},
   "outputs": [
    {
     "name": "stdout",
     "output_type": "stream",
     "text": [
      "Esperamos trabalhar no diretório\n",
      "C:\\Users\\Familia\\Documents\\insper\\ciencia dos dados\\CD17\\Projeto1\n"
     ]
    }
   ],
   "source": [
    "print('Esperamos trabalhar no diretório')\n",
    "print(os.getcwd())"
   ]
  },
  {
   "cell_type": "code",
   "execution_count": 5,
   "metadata": {
    "collapsed": true
   },
   "outputs": [],
   "source": [
    "#Se usar o arquivo descompactado\n",
    "#pd.read_csv('DOM2015.csv',sep=',')\n",
    "dados= pd.read_csv('DOM2013.csv', sep=',')\n",
    "#Se usar o arquivo compactado como está no dropbox púbico\n",
    "#pd.read_csv('DOM2015csv.zip', compression='zip', header=0, sep=',', quotechar='\"')"
   ]
  },
  {
   "cell_type": "code",
   "execution_count": 6,
   "metadata": {},
   "outputs": [
    {
     "name": "stderr",
     "output_type": "stream",
     "text": [
      "C:\\Users\\Familia\\Anaconda3\\lib\\site-packages\\ipykernel\\__main__.py:4: UserWarning: Boolean Series key will be reindexed to match DataFrame index.\n"
     ]
    },
    {
     "data": {
      "text/html": [
       "<div>\n",
       "<table border=\"1\" class=\"dataframe\">\n",
       "  <thead>\n",
       "    <tr style=\"text-align: right;\">\n",
       "      <th></th>\n",
       "      <th>UF</th>\n",
       "      <th>V4621</th>\n",
       "      <th>V0201</th>\n",
       "      <th>V0202</th>\n",
       "      <th>V02322</th>\n",
       "    </tr>\n",
       "  </thead>\n",
       "  <tbody>\n",
       "    <tr>\n",
       "      <th>2</th>\n",
       "      <td>11</td>\n",
       "      <td>350.0</td>\n",
       "      <td>1.0</td>\n",
       "      <td>4.0</td>\n",
       "      <td>4.0</td>\n",
       "    </tr>\n",
       "    <tr>\n",
       "      <th>3</th>\n",
       "      <td>11</td>\n",
       "      <td>339.0</td>\n",
       "      <td>1.0</td>\n",
       "      <td>2.0</td>\n",
       "      <td>4.0</td>\n",
       "    </tr>\n",
       "    <tr>\n",
       "      <th>4</th>\n",
       "      <td>11</td>\n",
       "      <td>266.0</td>\n",
       "      <td>1.0</td>\n",
       "      <td>2.0</td>\n",
       "      <td>4.0</td>\n",
       "    </tr>\n",
       "    <tr>\n",
       "      <th>5</th>\n",
       "      <td>11</td>\n",
       "      <td>400.0</td>\n",
       "      <td>1.0</td>\n",
       "      <td>2.0</td>\n",
       "      <td>4.0</td>\n",
       "    </tr>\n",
       "    <tr>\n",
       "      <th>6</th>\n",
       "      <td>11</td>\n",
       "      <td>411.0</td>\n",
       "      <td>1.0</td>\n",
       "      <td>2.0</td>\n",
       "      <td>4.0</td>\n",
       "    </tr>\n",
       "  </tbody>\n",
       "</table>\n",
       "</div>"
      ],
      "text/plain": [
       "   UF  V4621  V0201  V0202  V02322\n",
       "2  11  350.0    1.0    4.0     4.0\n",
       "3  11  339.0    1.0    2.0     4.0\n",
       "4  11  266.0    1.0    2.0     4.0\n",
       "5  11  400.0    1.0    2.0     4.0\n",
       "6  11  411.0    1.0    2.0     4.0"
      ]
     },
     "execution_count": 6,
     "metadata": {},
     "output_type": "execute_result"
    }
   ],
   "source": [
    "dados= dados.loc[:, [\"UF\",\"V4621\",\"V0201\",\"V0202\",\"V02322\"]]\n",
    "dados.to_csv(\"resumo.csv\") #faz com que salve em um arquivo no excel\n",
    "dados_nao_nulos= dados[pd.notnull(dados.V4621)&pd.notnull(dados.V0201)&pd.notnull(dados.UF)&pd.notnull(dados.V0202)&pd.notnull(dados.V02322)]\n",
    "dados_nao_nulos= dados_nao_nulos[dados.V4621!=999999999999]\n",
    "dados_nao_nulos.head()"
   ]
  },
  {
   "cell_type": "code",
   "execution_count": 7,
   "metadata": {},
   "outputs": [
    {
     "data": {
      "text/html": [
       "<div>\n",
       "<table border=\"1\" class=\"dataframe\">\n",
       "  <thead>\n",
       "    <tr style=\"text-align: right;\">\n",
       "      <th></th>\n",
       "      <th>UF</th>\n",
       "      <th>V4621</th>\n",
       "      <th>V0201</th>\n",
       "      <th>V0202</th>\n",
       "      <th>V02322</th>\n",
       "    </tr>\n",
       "  </thead>\n",
       "  <tbody>\n",
       "    <tr>\n",
       "      <th>2</th>\n",
       "      <td>Rondônia</td>\n",
       "      <td>350.0</td>\n",
       "      <td>Particular Permanente</td>\n",
       "      <td>Apartamento</td>\n",
       "      <td>Não</td>\n",
       "    </tr>\n",
       "    <tr>\n",
       "      <th>3</th>\n",
       "      <td>Rondônia</td>\n",
       "      <td>339.0</td>\n",
       "      <td>Particular Permanente</td>\n",
       "      <td>Casa</td>\n",
       "      <td>Não</td>\n",
       "    </tr>\n",
       "    <tr>\n",
       "      <th>4</th>\n",
       "      <td>Rondônia</td>\n",
       "      <td>266.0</td>\n",
       "      <td>Particular Permanente</td>\n",
       "      <td>Casa</td>\n",
       "      <td>Não</td>\n",
       "    </tr>\n",
       "    <tr>\n",
       "      <th>5</th>\n",
       "      <td>Rondônia</td>\n",
       "      <td>400.0</td>\n",
       "      <td>Particular Permanente</td>\n",
       "      <td>Casa</td>\n",
       "      <td>Não</td>\n",
       "    </tr>\n",
       "    <tr>\n",
       "      <th>6</th>\n",
       "      <td>Rondônia</td>\n",
       "      <td>411.0</td>\n",
       "      <td>Particular Permanente</td>\n",
       "      <td>Casa</td>\n",
       "      <td>Não</td>\n",
       "    </tr>\n",
       "  </tbody>\n",
       "</table>\n",
       "</div>"
      ],
      "text/plain": [
       "         UF  V4621                  V0201        V0202 V02322\n",
       "2  Rondônia  350.0  Particular Permanente  Apartamento    Não\n",
       "3  Rondônia  339.0  Particular Permanente         Casa    Não\n",
       "4  Rondônia  266.0  Particular Permanente         Casa    Não\n",
       "5  Rondônia  400.0  Particular Permanente         Casa    Não\n",
       "6  Rondônia  411.0  Particular Permanente         Casa    Não"
      ]
     },
     "execution_count": 7,
     "metadata": {},
     "output_type": "execute_result"
    }
   ],
   "source": [
    "#mudança categorias\n",
    "dados_nao_nulos.UF = dados.UF.astype('category')\n",
    "dados_nao_nulos.UF.cat.categories= (['Rondônia', 'Acre','Amazonas', 'Roraima','Pará', 'Amapá','Tocantis', 'Maranhão','Piauí', 'Ceará','Rio Grande do Norte', 'Paraíba','Pernambuco', 'Alagoas','Sergipe', 'Bahia','Minas Gerais', 'Espírito Santo','Rio de Janeiro', 'São Paulo','Paraná', 'Santa Catarina','Rio Grande do Sul', 'Mato Grosso do Sul','Mato Grosso', 'Goiás' , 'Distrito Federal'])\n",
    "dados_nao_nulos.V02322 = dados.V02322.astype('category')\n",
    "dados_nao_nulos.V02322.cat.categories= (['Sim', 'Não'])\n",
    "dados_nao_nulos.V0201 = dados.V0201.astype('category')\n",
    "dados_nao_nulos.V0201.cat.categories= (['Particular Permanente', 'Particular Improvisado', 'Coletivo'])\n",
    "dados_nao_nulos.V0202 = dados.V0202.astype('category')\n",
    "dados_nao_nulos.V0202.cat.categories= (['Casa', 'Apartamento', 'Comodo'])\n",
    "dados_nao_nulos.head()"
   ]
  },
  {
   "cell_type": "code",
   "execution_count": 8,
   "metadata": {},
   "outputs": [
    {
     "data": {
      "text/html": [
       "<div>\n",
       "<table border=\"1\" class=\"dataframe\">\n",
       "  <thead>\n",
       "    <tr style=\"text-align: right;\">\n",
       "      <th></th>\n",
       "      <th>UF</th>\n",
       "      <th>V4621</th>\n",
       "      <th>V0201</th>\n",
       "      <th>V0202</th>\n",
       "      <th>V02322</th>\n",
       "      <th>Regiao</th>\n",
       "    </tr>\n",
       "  </thead>\n",
       "  <tbody>\n",
       "    <tr>\n",
       "      <th>2</th>\n",
       "      <td>Rondônia</td>\n",
       "      <td>350.0</td>\n",
       "      <td>Particular Permanente</td>\n",
       "      <td>Apartamento</td>\n",
       "      <td>Não</td>\n",
       "      <td>Norte</td>\n",
       "    </tr>\n",
       "    <tr>\n",
       "      <th>3</th>\n",
       "      <td>Rondônia</td>\n",
       "      <td>339.0</td>\n",
       "      <td>Particular Permanente</td>\n",
       "      <td>Casa</td>\n",
       "      <td>Não</td>\n",
       "      <td>Norte</td>\n",
       "    </tr>\n",
       "    <tr>\n",
       "      <th>4</th>\n",
       "      <td>Rondônia</td>\n",
       "      <td>266.0</td>\n",
       "      <td>Particular Permanente</td>\n",
       "      <td>Casa</td>\n",
       "      <td>Não</td>\n",
       "      <td>Norte</td>\n",
       "    </tr>\n",
       "    <tr>\n",
       "      <th>5</th>\n",
       "      <td>Rondônia</td>\n",
       "      <td>400.0</td>\n",
       "      <td>Particular Permanente</td>\n",
       "      <td>Casa</td>\n",
       "      <td>Não</td>\n",
       "      <td>Norte</td>\n",
       "    </tr>\n",
       "    <tr>\n",
       "      <th>6</th>\n",
       "      <td>Rondônia</td>\n",
       "      <td>411.0</td>\n",
       "      <td>Particular Permanente</td>\n",
       "      <td>Casa</td>\n",
       "      <td>Não</td>\n",
       "      <td>Norte</td>\n",
       "    </tr>\n",
       "  </tbody>\n",
       "</table>\n",
       "</div>"
      ],
      "text/plain": [
       "         UF  V4621                  V0201        V0202 V02322 Regiao\n",
       "2  Rondônia  350.0  Particular Permanente  Apartamento    Não  Norte\n",
       "3  Rondônia  339.0  Particular Permanente         Casa    Não  Norte\n",
       "4  Rondônia  266.0  Particular Permanente         Casa    Não  Norte\n",
       "5  Rondônia  400.0  Particular Permanente         Casa    Não  Norte\n",
       "6  Rondônia  411.0  Particular Permanente         Casa    Não  Norte"
      ]
     },
     "execution_count": 8,
     "metadata": {},
     "output_type": "execute_result"
    }
   ],
   "source": [
    "dados_nao_nulos.loc[(dados_nao_nulos.UF=='Rondônia') | (dados_nao_nulos.UF=='Acre') | (dados_nao_nulos.UF=='Amazonas') | (dados_nao_nulos.UF=='Roraima') | (dados_nao_nulos.UF=='Pará') | (dados_nao_nulos.UF=='Amapá') | (dados_nao_nulos.UF=='Tocantins'),'Regiao'] = 'Norte'\n",
    "dados_nao_nulos.loc[(dados_nao_nulos.UF=='Maranhão') | (dados_nao_nulos.UF=='Piaui') | (dados_nao_nulos.UF=='Caerá') | (dados_nao_nulos.UF=='Rio Grande do Norte') | (dados_nao_nulos.UF=='Paraíba') | (dados_nao_nulos.UF=='Pernambuco') | (dados_nao_nulos.UF=='Alagoas') | (dados_nao_nulos.UF=='Sergipe') | (dados_nao_nulos.UF=='Bahia'),'Regiao'] = 'Nordeste'\n",
    "dados_nao_nulos.loc[(dados_nao_nulos.UF=='Minas Gerais') | (dados_nao_nulos.UF=='Espirito Santo') | (dados_nao_nulos.UF=='Rio de Janeiro') | (dados_nao_nulos.UF=='São Paulo'),'Regiao'] = 'Sudeste'\n",
    "dados_nao_nulos.loc[(dados_nao_nulos.UF=='Paraná') | (dados_nao_nulos.UF=='Santa Catarina') | (dados_nao_nulos.UF=='Rio Grande do Sul'),'Regiao'] = 'Sul'\n",
    "dados_nao_nulos.loc[(dados_nao_nulos.UF=='Mato Grosso do Sul') | (dados_nao_nulos.UF=='Mato Grosso') | (dados_nao_nulos.UF=='Goiás') | (dados_nao_nulos.UF=='Distrito Federal'),'Regiao'] = 'Centroeste'\n",
    "dados_nao_nulos.head()"
   ]
  },
  {
   "cell_type": "code",
   "execution_count": 9,
   "metadata": {},
   "outputs": [
    {
     "data": {
      "text/plain": [
       "0    Casa\n",
       "dtype: category\n",
       "Categories (3, object): [Casa, Apartamento, Comodo]"
      ]
     },
     "execution_count": 9,
     "metadata": {},
     "output_type": "execute_result"
    }
   ],
   "source": [
    "#moda dos tipos de domicilio-V0202\n",
    "dados_filtrados = dados_nao_nulos.V0202.mode()\n",
    "dados_filtrados"
   ]
  },
  {
   "cell_type": "code",
   "execution_count": 10,
   "metadata": {},
   "outputs": [
    {
     "data": {
      "text/plain": [
       "0    Particular Permanente\n",
       "dtype: category\n",
       "Categories (3, object): [Particular Permanente, Particular Improvisado, Coletivo]"
      ]
     },
     "execution_count": 10,
     "metadata": {},
     "output_type": "execute_result"
    }
   ],
   "source": [
    "#moda especie domicilio- V0201\n",
    "dados_filtrados1 = dados_nao_nulos.V0201.mode()\n",
    "dados_filtrados1"
   ]
  },
  {
   "cell_type": "code",
   "execution_count": 32,
   "metadata": {},
   "outputs": [
    {
     "data": {
      "text/html": [
       "<div>\n",
       "<table border=\"1\" class=\"dataframe\">\n",
       "  <thead>\n",
       "    <tr style=\"text-align: right;\">\n",
       "      <th></th>\n",
       "      <th>UF</th>\n",
       "      <th>V4621</th>\n",
       "      <th>V0201</th>\n",
       "      <th>V0202</th>\n",
       "      <th>V02322</th>\n",
       "      <th>Regiao</th>\n",
       "    </tr>\n",
       "  </thead>\n",
       "  <tbody>\n",
       "    <tr>\n",
       "      <th>2</th>\n",
       "      <td>Rondônia</td>\n",
       "      <td>350.0</td>\n",
       "      <td>Particular Permanente</td>\n",
       "      <td>Apartamento</td>\n",
       "      <td>Não</td>\n",
       "      <td>Norte</td>\n",
       "    </tr>\n",
       "    <tr>\n",
       "      <th>3</th>\n",
       "      <td>Rondônia</td>\n",
       "      <td>339.0</td>\n",
       "      <td>Particular Permanente</td>\n",
       "      <td>Casa</td>\n",
       "      <td>Não</td>\n",
       "      <td>Norte</td>\n",
       "    </tr>\n",
       "    <tr>\n",
       "      <th>4</th>\n",
       "      <td>Rondônia</td>\n",
       "      <td>266.0</td>\n",
       "      <td>Particular Permanente</td>\n",
       "      <td>Casa</td>\n",
       "      <td>Não</td>\n",
       "      <td>Norte</td>\n",
       "    </tr>\n",
       "    <tr>\n",
       "      <th>5</th>\n",
       "      <td>Rondônia</td>\n",
       "      <td>400.0</td>\n",
       "      <td>Particular Permanente</td>\n",
       "      <td>Casa</td>\n",
       "      <td>Não</td>\n",
       "      <td>Norte</td>\n",
       "    </tr>\n",
       "    <tr>\n",
       "      <th>6</th>\n",
       "      <td>Rondônia</td>\n",
       "      <td>411.0</td>\n",
       "      <td>Particular Permanente</td>\n",
       "      <td>Casa</td>\n",
       "      <td>Não</td>\n",
       "      <td>Norte</td>\n",
       "    </tr>\n",
       "    <tr>\n",
       "      <th>7</th>\n",
       "      <td>Rondônia</td>\n",
       "      <td>1333.0</td>\n",
       "      <td>Particular Permanente</td>\n",
       "      <td>Casa</td>\n",
       "      <td>Sim</td>\n",
       "      <td>Norte</td>\n",
       "    </tr>\n",
       "    <tr>\n",
       "      <th>8</th>\n",
       "      <td>Rondônia</td>\n",
       "      <td>1750.0</td>\n",
       "      <td>Particular Permanente</td>\n",
       "      <td>Casa</td>\n",
       "      <td>Sim</td>\n",
       "      <td>Norte</td>\n",
       "    </tr>\n",
       "    <tr>\n",
       "      <th>9</th>\n",
       "      <td>Rondônia</td>\n",
       "      <td>1300.0</td>\n",
       "      <td>Particular Permanente</td>\n",
       "      <td>Apartamento</td>\n",
       "      <td>Sim</td>\n",
       "      <td>Norte</td>\n",
       "    </tr>\n",
       "    <tr>\n",
       "      <th>10</th>\n",
       "      <td>Rondônia</td>\n",
       "      <td>280.0</td>\n",
       "      <td>Particular Permanente</td>\n",
       "      <td>Casa</td>\n",
       "      <td>Não</td>\n",
       "      <td>Norte</td>\n",
       "    </tr>\n",
       "    <tr>\n",
       "      <th>11</th>\n",
       "      <td>Rondônia</td>\n",
       "      <td>333.0</td>\n",
       "      <td>Particular Permanente</td>\n",
       "      <td>Casa</td>\n",
       "      <td>Não</td>\n",
       "      <td>Norte</td>\n",
       "    </tr>\n",
       "    <tr>\n",
       "      <th>12</th>\n",
       "      <td>Rondônia</td>\n",
       "      <td>1100.0</td>\n",
       "      <td>Particular Permanente</td>\n",
       "      <td>Casa</td>\n",
       "      <td>Não</td>\n",
       "      <td>Norte</td>\n",
       "    </tr>\n",
       "    <tr>\n",
       "      <th>14</th>\n",
       "      <td>Rondônia</td>\n",
       "      <td>650.0</td>\n",
       "      <td>Particular Permanente</td>\n",
       "      <td>Casa</td>\n",
       "      <td>Não</td>\n",
       "      <td>Norte</td>\n",
       "    </tr>\n",
       "    <tr>\n",
       "      <th>15</th>\n",
       "      <td>Rondônia</td>\n",
       "      <td>678.0</td>\n",
       "      <td>Particular Permanente</td>\n",
       "      <td>Apartamento</td>\n",
       "      <td>Não</td>\n",
       "      <td>Norte</td>\n",
       "    </tr>\n",
       "    <tr>\n",
       "      <th>16</th>\n",
       "      <td>Rondônia</td>\n",
       "      <td>3000.0</td>\n",
       "      <td>Particular Permanente</td>\n",
       "      <td>Apartamento</td>\n",
       "      <td>Não</td>\n",
       "      <td>Norte</td>\n",
       "    </tr>\n",
       "    <tr>\n",
       "      <th>17</th>\n",
       "      <td>Rondônia</td>\n",
       "      <td>1250.0</td>\n",
       "      <td>Particular Permanente</td>\n",
       "      <td>Casa</td>\n",
       "      <td>Sim</td>\n",
       "      <td>Norte</td>\n",
       "    </tr>\n",
       "    <tr>\n",
       "      <th>18</th>\n",
       "      <td>Rondônia</td>\n",
       "      <td>1178.0</td>\n",
       "      <td>Particular Permanente</td>\n",
       "      <td>Casa</td>\n",
       "      <td>Não</td>\n",
       "      <td>Norte</td>\n",
       "    </tr>\n",
       "    <tr>\n",
       "      <th>19</th>\n",
       "      <td>Rondônia</td>\n",
       "      <td>500.0</td>\n",
       "      <td>Particular Permanente</td>\n",
       "      <td>Apartamento</td>\n",
       "      <td>Não</td>\n",
       "      <td>Norte</td>\n",
       "    </tr>\n",
       "    <tr>\n",
       "      <th>20</th>\n",
       "      <td>Rondônia</td>\n",
       "      <td>666.0</td>\n",
       "      <td>Particular Permanente</td>\n",
       "      <td>Casa</td>\n",
       "      <td>Não</td>\n",
       "      <td>Norte</td>\n",
       "    </tr>\n",
       "    <tr>\n",
       "      <th>21</th>\n",
       "      <td>Rondônia</td>\n",
       "      <td>1489.0</td>\n",
       "      <td>Particular Permanente</td>\n",
       "      <td>Casa</td>\n",
       "      <td>Não</td>\n",
       "      <td>Norte</td>\n",
       "    </tr>\n",
       "    <tr>\n",
       "      <th>22</th>\n",
       "      <td>Rondônia</td>\n",
       "      <td>1500.0</td>\n",
       "      <td>Particular Permanente</td>\n",
       "      <td>Casa</td>\n",
       "      <td>Sim</td>\n",
       "      <td>Norte</td>\n",
       "    </tr>\n",
       "    <tr>\n",
       "      <th>24</th>\n",
       "      <td>Rondônia</td>\n",
       "      <td>2410.0</td>\n",
       "      <td>Particular Permanente</td>\n",
       "      <td>Apartamento</td>\n",
       "      <td>Sim</td>\n",
       "      <td>Norte</td>\n",
       "    </tr>\n",
       "    <tr>\n",
       "      <th>25</th>\n",
       "      <td>Rondônia</td>\n",
       "      <td>658.0</td>\n",
       "      <td>Particular Permanente</td>\n",
       "      <td>Casa</td>\n",
       "      <td>Não</td>\n",
       "      <td>Norte</td>\n",
       "    </tr>\n",
       "    <tr>\n",
       "      <th>26</th>\n",
       "      <td>Rondônia</td>\n",
       "      <td>271.0</td>\n",
       "      <td>Particular Permanente</td>\n",
       "      <td>Casa</td>\n",
       "      <td>Não</td>\n",
       "      <td>Norte</td>\n",
       "    </tr>\n",
       "    <tr>\n",
       "      <th>28</th>\n",
       "      <td>Rondônia</td>\n",
       "      <td>960.0</td>\n",
       "      <td>Particular Permanente</td>\n",
       "      <td>Casa</td>\n",
       "      <td>Sim</td>\n",
       "      <td>Norte</td>\n",
       "    </tr>\n",
       "    <tr>\n",
       "      <th>29</th>\n",
       "      <td>Rondônia</td>\n",
       "      <td>800.0</td>\n",
       "      <td>Particular Permanente</td>\n",
       "      <td>Casa</td>\n",
       "      <td>Sim</td>\n",
       "      <td>Norte</td>\n",
       "    </tr>\n",
       "    <tr>\n",
       "      <th>30</th>\n",
       "      <td>Rondônia</td>\n",
       "      <td>169.0</td>\n",
       "      <td>Particular Permanente</td>\n",
       "      <td>Casa</td>\n",
       "      <td>Não</td>\n",
       "      <td>Norte</td>\n",
       "    </tr>\n",
       "    <tr>\n",
       "      <th>31</th>\n",
       "      <td>Rondônia</td>\n",
       "      <td>1833.0</td>\n",
       "      <td>Particular Permanente</td>\n",
       "      <td>Casa</td>\n",
       "      <td>Sim</td>\n",
       "      <td>Norte</td>\n",
       "    </tr>\n",
       "    <tr>\n",
       "      <th>32</th>\n",
       "      <td>Rondônia</td>\n",
       "      <td>2000.0</td>\n",
       "      <td>Particular Permanente</td>\n",
       "      <td>Apartamento</td>\n",
       "      <td>Sim</td>\n",
       "      <td>Norte</td>\n",
       "    </tr>\n",
       "    <tr>\n",
       "      <th>33</th>\n",
       "      <td>Rondônia</td>\n",
       "      <td>372.0</td>\n",
       "      <td>Particular Permanente</td>\n",
       "      <td>Casa</td>\n",
       "      <td>Não</td>\n",
       "      <td>Norte</td>\n",
       "    </tr>\n",
       "    <tr>\n",
       "      <th>34</th>\n",
       "      <td>Rondônia</td>\n",
       "      <td>2000.0</td>\n",
       "      <td>Particular Permanente</td>\n",
       "      <td>Casa</td>\n",
       "      <td>Sim</td>\n",
       "      <td>Norte</td>\n",
       "    </tr>\n",
       "    <tr>\n",
       "      <th>...</th>\n",
       "      <td>...</td>\n",
       "      <td>...</td>\n",
       "      <td>...</td>\n",
       "      <td>...</td>\n",
       "      <td>...</td>\n",
       "      <td>...</td>\n",
       "    </tr>\n",
       "    <tr>\n",
       "      <th>148648</th>\n",
       "      <td>Distrito Federal</td>\n",
       "      <td>764.0</td>\n",
       "      <td>Particular Permanente</td>\n",
       "      <td>Casa</td>\n",
       "      <td>Não</td>\n",
       "      <td>Centroeste</td>\n",
       "    </tr>\n",
       "    <tr>\n",
       "      <th>148649</th>\n",
       "      <td>Distrito Federal</td>\n",
       "      <td>750.0</td>\n",
       "      <td>Particular Permanente</td>\n",
       "      <td>Casa</td>\n",
       "      <td>Sim</td>\n",
       "      <td>Centroeste</td>\n",
       "    </tr>\n",
       "    <tr>\n",
       "      <th>148651</th>\n",
       "      <td>Distrito Federal</td>\n",
       "      <td>0.0</td>\n",
       "      <td>Particular Permanente</td>\n",
       "      <td>Casa</td>\n",
       "      <td>Sim</td>\n",
       "      <td>Centroeste</td>\n",
       "    </tr>\n",
       "    <tr>\n",
       "      <th>148654</th>\n",
       "      <td>Distrito Federal</td>\n",
       "      <td>1150.0</td>\n",
       "      <td>Particular Permanente</td>\n",
       "      <td>Casa</td>\n",
       "      <td>Sim</td>\n",
       "      <td>Centroeste</td>\n",
       "    </tr>\n",
       "    <tr>\n",
       "      <th>148655</th>\n",
       "      <td>Distrito Federal</td>\n",
       "      <td>640.0</td>\n",
       "      <td>Particular Permanente</td>\n",
       "      <td>Casa</td>\n",
       "      <td>Não</td>\n",
       "      <td>Centroeste</td>\n",
       "    </tr>\n",
       "    <tr>\n",
       "      <th>148656</th>\n",
       "      <td>Distrito Federal</td>\n",
       "      <td>1168.0</td>\n",
       "      <td>Particular Permanente</td>\n",
       "      <td>Casa</td>\n",
       "      <td>Não</td>\n",
       "      <td>Centroeste</td>\n",
       "    </tr>\n",
       "    <tr>\n",
       "      <th>148657</th>\n",
       "      <td>Distrito Federal</td>\n",
       "      <td>0.0</td>\n",
       "      <td>Particular Permanente</td>\n",
       "      <td>Casa</td>\n",
       "      <td>Não</td>\n",
       "      <td>Centroeste</td>\n",
       "    </tr>\n",
       "    <tr>\n",
       "      <th>148661</th>\n",
       "      <td>Distrito Federal</td>\n",
       "      <td>800.0</td>\n",
       "      <td>Particular Permanente</td>\n",
       "      <td>Comodo</td>\n",
       "      <td>Não</td>\n",
       "      <td>Centroeste</td>\n",
       "    </tr>\n",
       "    <tr>\n",
       "      <th>148663</th>\n",
       "      <td>Distrito Federal</td>\n",
       "      <td>366.0</td>\n",
       "      <td>Particular Permanente</td>\n",
       "      <td>Casa</td>\n",
       "      <td>Sim</td>\n",
       "      <td>Centroeste</td>\n",
       "    </tr>\n",
       "    <tr>\n",
       "      <th>148665</th>\n",
       "      <td>Distrito Federal</td>\n",
       "      <td>6400.0</td>\n",
       "      <td>Particular Permanente</td>\n",
       "      <td>Casa</td>\n",
       "      <td>Sim</td>\n",
       "      <td>Centroeste</td>\n",
       "    </tr>\n",
       "    <tr>\n",
       "      <th>148666</th>\n",
       "      <td>Distrito Federal</td>\n",
       "      <td>10100.0</td>\n",
       "      <td>Particular Permanente</td>\n",
       "      <td>Casa</td>\n",
       "      <td>Sim</td>\n",
       "      <td>Centroeste</td>\n",
       "    </tr>\n",
       "    <tr>\n",
       "      <th>148668</th>\n",
       "      <td>Distrito Federal</td>\n",
       "      <td>4000.0</td>\n",
       "      <td>Particular Permanente</td>\n",
       "      <td>Casa</td>\n",
       "      <td>Sim</td>\n",
       "      <td>Centroeste</td>\n",
       "    </tr>\n",
       "    <tr>\n",
       "      <th>148669</th>\n",
       "      <td>Distrito Federal</td>\n",
       "      <td>23500.0</td>\n",
       "      <td>Particular Permanente</td>\n",
       "      <td>Casa</td>\n",
       "      <td>Sim</td>\n",
       "      <td>Centroeste</td>\n",
       "    </tr>\n",
       "    <tr>\n",
       "      <th>148672</th>\n",
       "      <td>Distrito Federal</td>\n",
       "      <td>6250.0</td>\n",
       "      <td>Particular Permanente</td>\n",
       "      <td>Casa</td>\n",
       "      <td>Sim</td>\n",
       "      <td>Centroeste</td>\n",
       "    </tr>\n",
       "    <tr>\n",
       "      <th>148677</th>\n",
       "      <td>Distrito Federal</td>\n",
       "      <td>13000.0</td>\n",
       "      <td>Particular Permanente</td>\n",
       "      <td>Casa</td>\n",
       "      <td>Sim</td>\n",
       "      <td>Centroeste</td>\n",
       "    </tr>\n",
       "    <tr>\n",
       "      <th>148678</th>\n",
       "      <td>Distrito Federal</td>\n",
       "      <td>7000.0</td>\n",
       "      <td>Particular Permanente</td>\n",
       "      <td>Casa</td>\n",
       "      <td>Sim</td>\n",
       "      <td>Centroeste</td>\n",
       "    </tr>\n",
       "    <tr>\n",
       "      <th>148679</th>\n",
       "      <td>Distrito Federal</td>\n",
       "      <td>9200.0</td>\n",
       "      <td>Particular Permanente</td>\n",
       "      <td>Casa</td>\n",
       "      <td>Sim</td>\n",
       "      <td>Centroeste</td>\n",
       "    </tr>\n",
       "    <tr>\n",
       "      <th>148680</th>\n",
       "      <td>Distrito Federal</td>\n",
       "      <td>538.0</td>\n",
       "      <td>Particular Permanente</td>\n",
       "      <td>Casa</td>\n",
       "      <td>Sim</td>\n",
       "      <td>Centroeste</td>\n",
       "    </tr>\n",
       "    <tr>\n",
       "      <th>148681</th>\n",
       "      <td>Distrito Federal</td>\n",
       "      <td>150.0</td>\n",
       "      <td>Particular Permanente</td>\n",
       "      <td>Casa</td>\n",
       "      <td>Sim</td>\n",
       "      <td>Centroeste</td>\n",
       "    </tr>\n",
       "    <tr>\n",
       "      <th>148682</th>\n",
       "      <td>Distrito Federal</td>\n",
       "      <td>1300.0</td>\n",
       "      <td>Particular Permanente</td>\n",
       "      <td>Casa</td>\n",
       "      <td>Não</td>\n",
       "      <td>Centroeste</td>\n",
       "    </tr>\n",
       "    <tr>\n",
       "      <th>148683</th>\n",
       "      <td>Distrito Federal</td>\n",
       "      <td>750.0</td>\n",
       "      <td>Particular Permanente</td>\n",
       "      <td>Casa</td>\n",
       "      <td>Não</td>\n",
       "      <td>Centroeste</td>\n",
       "    </tr>\n",
       "    <tr>\n",
       "      <th>148684</th>\n",
       "      <td>Distrito Federal</td>\n",
       "      <td>600.0</td>\n",
       "      <td>Particular Permanente</td>\n",
       "      <td>Casa</td>\n",
       "      <td>Sim</td>\n",
       "      <td>Centroeste</td>\n",
       "    </tr>\n",
       "    <tr>\n",
       "      <th>148687</th>\n",
       "      <td>Distrito Federal</td>\n",
       "      <td>356.0</td>\n",
       "      <td>Particular Permanente</td>\n",
       "      <td>Casa</td>\n",
       "      <td>Não</td>\n",
       "      <td>Centroeste</td>\n",
       "    </tr>\n",
       "    <tr>\n",
       "      <th>148688</th>\n",
       "      <td>Distrito Federal</td>\n",
       "      <td>974.0</td>\n",
       "      <td>Particular Permanente</td>\n",
       "      <td>Casa</td>\n",
       "      <td>Sim</td>\n",
       "      <td>Centroeste</td>\n",
       "    </tr>\n",
       "    <tr>\n",
       "      <th>148689</th>\n",
       "      <td>Distrito Federal</td>\n",
       "      <td>750.0</td>\n",
       "      <td>Particular Permanente</td>\n",
       "      <td>Casa</td>\n",
       "      <td>Sim</td>\n",
       "      <td>Centroeste</td>\n",
       "    </tr>\n",
       "    <tr>\n",
       "      <th>148690</th>\n",
       "      <td>Distrito Federal</td>\n",
       "      <td>516.0</td>\n",
       "      <td>Particular Permanente</td>\n",
       "      <td>Casa</td>\n",
       "      <td>Não</td>\n",
       "      <td>Centroeste</td>\n",
       "    </tr>\n",
       "    <tr>\n",
       "      <th>148692</th>\n",
       "      <td>Distrito Federal</td>\n",
       "      <td>800.0</td>\n",
       "      <td>Particular Permanente</td>\n",
       "      <td>Casa</td>\n",
       "      <td>Não</td>\n",
       "      <td>Centroeste</td>\n",
       "    </tr>\n",
       "    <tr>\n",
       "      <th>148693</th>\n",
       "      <td>Distrito Federal</td>\n",
       "      <td>100.0</td>\n",
       "      <td>Particular Permanente</td>\n",
       "      <td>Casa</td>\n",
       "      <td>Sim</td>\n",
       "      <td>Centroeste</td>\n",
       "    </tr>\n",
       "    <tr>\n",
       "      <th>148694</th>\n",
       "      <td>Distrito Federal</td>\n",
       "      <td>387.0</td>\n",
       "      <td>Particular Permanente</td>\n",
       "      <td>Casa</td>\n",
       "      <td>Sim</td>\n",
       "      <td>Centroeste</td>\n",
       "    </tr>\n",
       "    <tr>\n",
       "      <th>148695</th>\n",
       "      <td>Distrito Federal</td>\n",
       "      <td>400.0</td>\n",
       "      <td>Particular Permanente</td>\n",
       "      <td>Casa</td>\n",
       "      <td>Não</td>\n",
       "      <td>Centroeste</td>\n",
       "    </tr>\n",
       "  </tbody>\n",
       "</table>\n",
       "<p>110687 rows × 6 columns</p>\n",
       "</div>"
      ],
      "text/plain": [
       "                      UF    V4621                  V0201        V0202 V02322  \\\n",
       "2               Rondônia    350.0  Particular Permanente  Apartamento    Não   \n",
       "3               Rondônia    339.0  Particular Permanente         Casa    Não   \n",
       "4               Rondônia    266.0  Particular Permanente         Casa    Não   \n",
       "5               Rondônia    400.0  Particular Permanente         Casa    Não   \n",
       "6               Rondônia    411.0  Particular Permanente         Casa    Não   \n",
       "7               Rondônia   1333.0  Particular Permanente         Casa    Sim   \n",
       "8               Rondônia   1750.0  Particular Permanente         Casa    Sim   \n",
       "9               Rondônia   1300.0  Particular Permanente  Apartamento    Sim   \n",
       "10              Rondônia    280.0  Particular Permanente         Casa    Não   \n",
       "11              Rondônia    333.0  Particular Permanente         Casa    Não   \n",
       "12              Rondônia   1100.0  Particular Permanente         Casa    Não   \n",
       "14              Rondônia    650.0  Particular Permanente         Casa    Não   \n",
       "15              Rondônia    678.0  Particular Permanente  Apartamento    Não   \n",
       "16              Rondônia   3000.0  Particular Permanente  Apartamento    Não   \n",
       "17              Rondônia   1250.0  Particular Permanente         Casa    Sim   \n",
       "18              Rondônia   1178.0  Particular Permanente         Casa    Não   \n",
       "19              Rondônia    500.0  Particular Permanente  Apartamento    Não   \n",
       "20              Rondônia    666.0  Particular Permanente         Casa    Não   \n",
       "21              Rondônia   1489.0  Particular Permanente         Casa    Não   \n",
       "22              Rondônia   1500.0  Particular Permanente         Casa    Sim   \n",
       "24              Rondônia   2410.0  Particular Permanente  Apartamento    Sim   \n",
       "25              Rondônia    658.0  Particular Permanente         Casa    Não   \n",
       "26              Rondônia    271.0  Particular Permanente         Casa    Não   \n",
       "28              Rondônia    960.0  Particular Permanente         Casa    Sim   \n",
       "29              Rondônia    800.0  Particular Permanente         Casa    Sim   \n",
       "30              Rondônia    169.0  Particular Permanente         Casa    Não   \n",
       "31              Rondônia   1833.0  Particular Permanente         Casa    Sim   \n",
       "32              Rondônia   2000.0  Particular Permanente  Apartamento    Sim   \n",
       "33              Rondônia    372.0  Particular Permanente         Casa    Não   \n",
       "34              Rondônia   2000.0  Particular Permanente         Casa    Sim   \n",
       "...                  ...      ...                    ...          ...    ...   \n",
       "148648  Distrito Federal    764.0  Particular Permanente         Casa    Não   \n",
       "148649  Distrito Federal    750.0  Particular Permanente         Casa    Sim   \n",
       "148651  Distrito Federal      0.0  Particular Permanente         Casa    Sim   \n",
       "148654  Distrito Federal   1150.0  Particular Permanente         Casa    Sim   \n",
       "148655  Distrito Federal    640.0  Particular Permanente         Casa    Não   \n",
       "148656  Distrito Federal   1168.0  Particular Permanente         Casa    Não   \n",
       "148657  Distrito Federal      0.0  Particular Permanente         Casa    Não   \n",
       "148661  Distrito Federal    800.0  Particular Permanente       Comodo    Não   \n",
       "148663  Distrito Federal    366.0  Particular Permanente         Casa    Sim   \n",
       "148665  Distrito Federal   6400.0  Particular Permanente         Casa    Sim   \n",
       "148666  Distrito Federal  10100.0  Particular Permanente         Casa    Sim   \n",
       "148668  Distrito Federal   4000.0  Particular Permanente         Casa    Sim   \n",
       "148669  Distrito Federal  23500.0  Particular Permanente         Casa    Sim   \n",
       "148672  Distrito Federal   6250.0  Particular Permanente         Casa    Sim   \n",
       "148677  Distrito Federal  13000.0  Particular Permanente         Casa    Sim   \n",
       "148678  Distrito Federal   7000.0  Particular Permanente         Casa    Sim   \n",
       "148679  Distrito Federal   9200.0  Particular Permanente         Casa    Sim   \n",
       "148680  Distrito Federal    538.0  Particular Permanente         Casa    Sim   \n",
       "148681  Distrito Federal    150.0  Particular Permanente         Casa    Sim   \n",
       "148682  Distrito Federal   1300.0  Particular Permanente         Casa    Não   \n",
       "148683  Distrito Federal    750.0  Particular Permanente         Casa    Não   \n",
       "148684  Distrito Federal    600.0  Particular Permanente         Casa    Sim   \n",
       "148687  Distrito Federal    356.0  Particular Permanente         Casa    Não   \n",
       "148688  Distrito Federal    974.0  Particular Permanente         Casa    Sim   \n",
       "148689  Distrito Federal    750.0  Particular Permanente         Casa    Sim   \n",
       "148690  Distrito Federal    516.0  Particular Permanente         Casa    Não   \n",
       "148692  Distrito Federal    800.0  Particular Permanente         Casa    Não   \n",
       "148693  Distrito Federal    100.0  Particular Permanente         Casa    Sim   \n",
       "148694  Distrito Federal    387.0  Particular Permanente         Casa    Sim   \n",
       "148695  Distrito Federal    400.0  Particular Permanente         Casa    Não   \n",
       "\n",
       "            Regiao  \n",
       "2            Norte  \n",
       "3            Norte  \n",
       "4            Norte  \n",
       "5            Norte  \n",
       "6            Norte  \n",
       "7            Norte  \n",
       "8            Norte  \n",
       "9            Norte  \n",
       "10           Norte  \n",
       "11           Norte  \n",
       "12           Norte  \n",
       "14           Norte  \n",
       "15           Norte  \n",
       "16           Norte  \n",
       "17           Norte  \n",
       "18           Norte  \n",
       "19           Norte  \n",
       "20           Norte  \n",
       "21           Norte  \n",
       "22           Norte  \n",
       "24           Norte  \n",
       "25           Norte  \n",
       "26           Norte  \n",
       "28           Norte  \n",
       "29           Norte  \n",
       "30           Norte  \n",
       "31           Norte  \n",
       "32           Norte  \n",
       "33           Norte  \n",
       "34           Norte  \n",
       "...            ...  \n",
       "148648  Centroeste  \n",
       "148649  Centroeste  \n",
       "148651  Centroeste  \n",
       "148654  Centroeste  \n",
       "148655  Centroeste  \n",
       "148656  Centroeste  \n",
       "148657  Centroeste  \n",
       "148661  Centroeste  \n",
       "148663  Centroeste  \n",
       "148665  Centroeste  \n",
       "148666  Centroeste  \n",
       "148668  Centroeste  \n",
       "148669  Centroeste  \n",
       "148672  Centroeste  \n",
       "148677  Centroeste  \n",
       "148678  Centroeste  \n",
       "148679  Centroeste  \n",
       "148680  Centroeste  \n",
       "148681  Centroeste  \n",
       "148682  Centroeste  \n",
       "148683  Centroeste  \n",
       "148684  Centroeste  \n",
       "148687  Centroeste  \n",
       "148688  Centroeste  \n",
       "148689  Centroeste  \n",
       "148690  Centroeste  \n",
       "148692  Centroeste  \n",
       "148693  Centroeste  \n",
       "148694  Centroeste  \n",
       "148695  Centroeste  \n",
       "\n",
       "[110687 rows x 6 columns]"
      ]
     },
     "execution_count": 32,
     "metadata": {},
     "output_type": "execute_result"
    }
   ],
   "source": [
    "#criar novo arquivo com as modas de cada estado\n",
    "dadosfiltrados= dados_nao_nulos[(dados_nao_nulos.V0201== 'Particular Permanente')|(dados_nao_nulos.V0201== 'Particular Improvisado') & (dados_nao_nulos.V0202== 'Casa') | (dados_nao_nulos.V0202=='Apartamento')]\n",
    "dadosfiltrados"
   ]
  },
  {
   "cell_type": "code",
   "execution_count": 33,
   "metadata": {},
   "outputs": [
    {
     "data": {
      "text/html": [
       "<div>\n",
       "<table border=\"1\" class=\"dataframe\">\n",
       "  <thead>\n",
       "    <tr style=\"text-align: right;\">\n",
       "      <th></th>\n",
       "      <th>UF</th>\n",
       "      <th>V4621</th>\n",
       "      <th>V0201</th>\n",
       "      <th>V0202</th>\n",
       "      <th>V02322</th>\n",
       "      <th>Regiao</th>\n",
       "    </tr>\n",
       "  </thead>\n",
       "  <tbody>\n",
       "    <tr>\n",
       "      <th>2</th>\n",
       "      <td>Rondônia</td>\n",
       "      <td>350.0</td>\n",
       "      <td>Particular Permanente</td>\n",
       "      <td>Apartamento</td>\n",
       "      <td>Não</td>\n",
       "      <td>Norte</td>\n",
       "    </tr>\n",
       "    <tr>\n",
       "      <th>3</th>\n",
       "      <td>Rondônia</td>\n",
       "      <td>339.0</td>\n",
       "      <td>Particular Permanente</td>\n",
       "      <td>Casa</td>\n",
       "      <td>Não</td>\n",
       "      <td>Norte</td>\n",
       "    </tr>\n",
       "    <tr>\n",
       "      <th>4</th>\n",
       "      <td>Rondônia</td>\n",
       "      <td>266.0</td>\n",
       "      <td>Particular Permanente</td>\n",
       "      <td>Casa</td>\n",
       "      <td>Não</td>\n",
       "      <td>Norte</td>\n",
       "    </tr>\n",
       "    <tr>\n",
       "      <th>5</th>\n",
       "      <td>Rondônia</td>\n",
       "      <td>400.0</td>\n",
       "      <td>Particular Permanente</td>\n",
       "      <td>Casa</td>\n",
       "      <td>Não</td>\n",
       "      <td>Norte</td>\n",
       "    </tr>\n",
       "    <tr>\n",
       "      <th>6</th>\n",
       "      <td>Rondônia</td>\n",
       "      <td>411.0</td>\n",
       "      <td>Particular Permanente</td>\n",
       "      <td>Casa</td>\n",
       "      <td>Não</td>\n",
       "      <td>Norte</td>\n",
       "    </tr>\n",
       "  </tbody>\n",
       "</table>\n",
       "</div>"
      ],
      "text/plain": [
       "         UF  V4621                  V0201        V0202 V02322 Regiao\n",
       "2  Rondônia  350.0  Particular Permanente  Apartamento    Não  Norte\n",
       "3  Rondônia  339.0  Particular Permanente         Casa    Não  Norte\n",
       "4  Rondônia  266.0  Particular Permanente         Casa    Não  Norte\n",
       "5  Rondônia  400.0  Particular Permanente         Casa    Não  Norte\n",
       "6  Rondônia  411.0  Particular Permanente         Casa    Não  Norte"
      ]
     },
     "execution_count": 33,
     "metadata": {},
     "output_type": "execute_result"
    }
   ],
   "source": [
    "#grafico de quantidade de sim ou nao por regiao\n",
    "tabelanorte= dadosfiltrados[dadosfiltrados.Regiao=='Norte']\n",
    "tabelanorte.head()"
   ]
  },
  {
   "cell_type": "code",
   "execution_count": 34,
   "metadata": {
    "scrolled": true
   },
   "outputs": [
    {
     "data": {
      "text/plain": [
       "<matplotlib.text.Text at 0x271968c9cc0>"
      ]
     },
     "execution_count": 34,
     "metadata": {},
     "output_type": "execute_result"
    },
    {
     "data": {
      "image/png": "[encoded data removed]",
      "text/plain": [
       "<matplotlib.figure.Figure at 0x27196993978>"
      ]
     },
     "metadata": {},
     "output_type": "display_data"
    }
   ],
   "source": [
    "plt.subplot(121)\n",
    "tabelanorte1= tabelanorte.V02322.value_counts()\n",
    "tabelanorte1.plot(kind='pie', colors=('blue','red'), autopct=\"%0.2f\",legend=False)\n",
    "plt.subplot(122)\n",
    "faixa = range(10,5000,500)\n",
    "renda_Nordeste = pd.cut(tabelanorte.V4621, bins=faixa)\n",
    "renda_Nordeste.value_counts(sort=False, normalize=True)*100\n",
    "plot = tabelanorte.V4621.plot.hist(bins=faixa,title='Gráfico de Renda Norte', figsize=(6, 6), alpha=0.9)\n",
    "plt.ylabel('Frequência absoluta')\n",
    "plt.xlabel('renda (em reais)')"
   ]
  },
  {
   "cell_type": "code",
   "execution_count": 35,
   "metadata": {},
   "outputs": [
    {
     "data": {
      "text/html": [
       "<div>\n",
       "<table border=\"1\" class=\"dataframe\">\n",
       "  <thead>\n",
       "    <tr style=\"text-align: right;\">\n",
       "      <th></th>\n",
       "      <th>UF</th>\n",
       "      <th>V4621</th>\n",
       "      <th>V0201</th>\n",
       "      <th>V0202</th>\n",
       "      <th>V02322</th>\n",
       "      <th>Regiao</th>\n",
       "    </tr>\n",
       "  </thead>\n",
       "  <tbody>\n",
       "    <tr>\n",
       "      <th>21219</th>\n",
       "      <td>Maranhão</td>\n",
       "      <td>1534.0</td>\n",
       "      <td>Particular Permanente</td>\n",
       "      <td>Casa</td>\n",
       "      <td>Não</td>\n",
       "      <td>Nordeste</td>\n",
       "    </tr>\n",
       "    <tr>\n",
       "      <th>21220</th>\n",
       "      <td>Maranhão</td>\n",
       "      <td>254.0</td>\n",
       "      <td>Particular Permanente</td>\n",
       "      <td>Casa</td>\n",
       "      <td>Não</td>\n",
       "      <td>Nordeste</td>\n",
       "    </tr>\n",
       "    <tr>\n",
       "      <th>21221</th>\n",
       "      <td>Maranhão</td>\n",
       "      <td>452.0</td>\n",
       "      <td>Particular Permanente</td>\n",
       "      <td>Casa</td>\n",
       "      <td>Não</td>\n",
       "      <td>Nordeste</td>\n",
       "    </tr>\n",
       "    <tr>\n",
       "      <th>21223</th>\n",
       "      <td>Maranhão</td>\n",
       "      <td>240.0</td>\n",
       "      <td>Particular Permanente</td>\n",
       "      <td>Casa</td>\n",
       "      <td>Não</td>\n",
       "      <td>Nordeste</td>\n",
       "    </tr>\n",
       "    <tr>\n",
       "      <th>21224</th>\n",
       "      <td>Maranhão</td>\n",
       "      <td>158.0</td>\n",
       "      <td>Particular Permanente</td>\n",
       "      <td>Casa</td>\n",
       "      <td>Não</td>\n",
       "      <td>Nordeste</td>\n",
       "    </tr>\n",
       "  </tbody>\n",
       "</table>\n",
       "</div>"
      ],
      "text/plain": [
       "             UF   V4621                  V0201 V0202 V02322    Regiao\n",
       "21219  Maranhão  1534.0  Particular Permanente  Casa    Não  Nordeste\n",
       "21220  Maranhão   254.0  Particular Permanente  Casa    Não  Nordeste\n",
       "21221  Maranhão   452.0  Particular Permanente  Casa    Não  Nordeste\n",
       "21223  Maranhão   240.0  Particular Permanente  Casa    Não  Nordeste\n",
       "21224  Maranhão   158.0  Particular Permanente  Casa    Não  Nordeste"
      ]
     },
     "execution_count": 35,
     "metadata": {},
     "output_type": "execute_result"
    }
   ],
   "source": [
    "tabelanordeste= dadosfiltrados[dadosfiltrados.Regiao=='Nordeste']\n",
    "tabelanordeste.head()"
   ]
  },
  {
   "cell_type": "code",
   "execution_count": 36,
   "metadata": {},
   "outputs": [
    {
     "data": {
      "text/plain": [
       "<matplotlib.text.Text at 0x2719688bba8>"
      ]
     },
     "execution_count": 36,
     "metadata": {},
     "output_type": "execute_result"
    },
    {
     "data": {
      "image/png": "[encoded data removed]",
      "text/plain": [
       "<matplotlib.figure.Figure at 0x271969ddeb8>"
      ]
     },
     "metadata": {},
     "output_type": "display_data"
    }
   ],
   "source": [
    "plt.subplot(121)\n",
    "tabelanordeste1= tabelanordeste.V02322.value_counts()\n",
    "tabelanordeste1.plot(kind='pie', colors=('blue','red'), autopct=\"%0.2f\",legend=False)\n",
    "plt.subplot(122)\n",
    "faixa = range(10,5000,500)\n",
    "renda_Nordeste = pd.cut(tabelanordeste.V4621, bins=faixa)\n",
    "renda_Nordeste.value_counts(sort=False, normalize=True)*100\n",
    "plot = tabelanordeste.V4621.plot.hist(bins=faixa,title='Gráfico de Renda Nordeste', figsize=(6, 6), alpha=0.9)\n",
    "plt.ylabel('Frequência absoluta')\n",
    "plt.xlabel('renda (em reais)')"
   ]
  },
  {
   "cell_type": "code",
   "execution_count": 37,
   "metadata": {},
   "outputs": [
    {
     "data": {
      "text/html": [
       "<div>\n",
       "<table border=\"1\" class=\"dataframe\">\n",
       "  <thead>\n",
       "    <tr style=\"text-align: right;\">\n",
       "      <th></th>\n",
       "      <th>UF</th>\n",
       "      <th>V4621</th>\n",
       "      <th>V0201</th>\n",
       "      <th>V0202</th>\n",
       "      <th>V02322</th>\n",
       "      <th>Regiao</th>\n",
       "    </tr>\n",
       "  </thead>\n",
       "  <tbody>\n",
       "    <tr>\n",
       "      <th>63842</th>\n",
       "      <td>Minas Gerais</td>\n",
       "      <td>1281.0</td>\n",
       "      <td>Particular Permanente</td>\n",
       "      <td>Casa</td>\n",
       "      <td>Não</td>\n",
       "      <td>Sudeste</td>\n",
       "    </tr>\n",
       "    <tr>\n",
       "      <th>63843</th>\n",
       "      <td>Minas Gerais</td>\n",
       "      <td>729.0</td>\n",
       "      <td>Particular Permanente</td>\n",
       "      <td>Casa</td>\n",
       "      <td>Sim</td>\n",
       "      <td>Sudeste</td>\n",
       "    </tr>\n",
       "    <tr>\n",
       "      <th>63844</th>\n",
       "      <td>Minas Gerais</td>\n",
       "      <td>2750.0</td>\n",
       "      <td>Particular Permanente</td>\n",
       "      <td>Casa</td>\n",
       "      <td>Sim</td>\n",
       "      <td>Sudeste</td>\n",
       "    </tr>\n",
       "    <tr>\n",
       "      <th>63845</th>\n",
       "      <td>Minas Gerais</td>\n",
       "      <td>678.0</td>\n",
       "      <td>Particular Permanente</td>\n",
       "      <td>Casa</td>\n",
       "      <td>Não</td>\n",
       "      <td>Sudeste</td>\n",
       "    </tr>\n",
       "    <tr>\n",
       "      <th>63846</th>\n",
       "      <td>Minas Gerais</td>\n",
       "      <td>421.0</td>\n",
       "      <td>Particular Permanente</td>\n",
       "      <td>Apartamento</td>\n",
       "      <td>Sim</td>\n",
       "      <td>Sudeste</td>\n",
       "    </tr>\n",
       "  </tbody>\n",
       "</table>\n",
       "</div>"
      ],
      "text/plain": [
       "                 UF   V4621                  V0201        V0202 V02322  \\\n",
       "63842  Minas Gerais  1281.0  Particular Permanente         Casa    Não   \n",
       "63843  Minas Gerais   729.0  Particular Permanente         Casa    Sim   \n",
       "63844  Minas Gerais  2750.0  Particular Permanente         Casa    Sim   \n",
       "63845  Minas Gerais   678.0  Particular Permanente         Casa    Não   \n",
       "63846  Minas Gerais   421.0  Particular Permanente  Apartamento    Sim   \n",
       "\n",
       "        Regiao  \n",
       "63842  Sudeste  \n",
       "63843  Sudeste  \n",
       "63844  Sudeste  \n",
       "63845  Sudeste  \n",
       "63846  Sudeste  "
      ]
     },
     "execution_count": 37,
     "metadata": {},
     "output_type": "execute_result"
    }
   ],
   "source": [
    "tabelasudeste= dadosfiltrados[dadosfiltrados.Regiao=='Sudeste']\n",
    "tabelasudeste.head()"
   ]
  },
  {
   "cell_type": "code",
   "execution_count": 38,
   "metadata": {},
   "outputs": [
    {
     "data": {
      "text/plain": [
       "<matplotlib.text.Text at 0x2719dbe8c18>"
      ]
     },
     "execution_count": 38,
     "metadata": {},
     "output_type": "execute_result"
    },
    {
     "data": {
      "image/png": "[encoded data removed]",
      "text/plain": [
       "<matplotlib.figure.Figure at 0x2719682cdd8>"
      ]
     },
     "metadata": {},
     "output_type": "display_data"
    }
   ],
   "source": [
    "plt.subplot(121)\n",
    "tabelasudeste1= tabelasudeste.V02322.value_counts()\n",
    "tabelasudeste1.plot(kind='pie', colors=('blue','red'), autopct=\"%0.2f\",legend=False)\n",
    "plt.subplot(122)\n",
    "faixa = range(10,5000,500)\n",
    "renda_Sudeste = pd.cut(tabelasudeste.V4621, bins=faixa)\n",
    "renda_Sudeste.value_counts(sort=False, normalize=True)*100\n",
    "plot = tabelasudeste.V4621.plot.hist(bins=faixa,title='Gráfico de Renda sudeste', figsize=(6, 6), alpha=0.9)\n",
    "plt.ylabel('Frequência absoluta')\n",
    "plt.xlabel('renda (em reais)')"
   ]
  },
  {
   "cell_type": "code",
   "execution_count": 39,
   "metadata": {},
   "outputs": [
    {
     "data": {
      "text/html": [
       "<div>\n",
       "<table border=\"1\" class=\"dataframe\">\n",
       "  <thead>\n",
       "    <tr style=\"text-align: right;\">\n",
       "      <th></th>\n",
       "      <th>UF</th>\n",
       "      <th>V4621</th>\n",
       "      <th>V0201</th>\n",
       "      <th>V0202</th>\n",
       "      <th>V02322</th>\n",
       "      <th>Regiao</th>\n",
       "    </tr>\n",
       "  </thead>\n",
       "  <tbody>\n",
       "    <tr>\n",
       "      <th>108606</th>\n",
       "      <td>Paraná</td>\n",
       "      <td>1650.0</td>\n",
       "      <td>Particular Permanente</td>\n",
       "      <td>Casa</td>\n",
       "      <td>Sim</td>\n",
       "      <td>Sul</td>\n",
       "    </tr>\n",
       "    <tr>\n",
       "      <th>108607</th>\n",
       "      <td>Paraná</td>\n",
       "      <td>400.0</td>\n",
       "      <td>Particular Permanente</td>\n",
       "      <td>Casa</td>\n",
       "      <td>Não</td>\n",
       "      <td>Sul</td>\n",
       "    </tr>\n",
       "    <tr>\n",
       "      <th>108608</th>\n",
       "      <td>Paraná</td>\n",
       "      <td>833.0</td>\n",
       "      <td>Particular Permanente</td>\n",
       "      <td>Casa</td>\n",
       "      <td>Não</td>\n",
       "      <td>Sul</td>\n",
       "    </tr>\n",
       "    <tr>\n",
       "      <th>108609</th>\n",
       "      <td>Paraná</td>\n",
       "      <td>347.0</td>\n",
       "      <td>Particular Permanente</td>\n",
       "      <td>Casa</td>\n",
       "      <td>Não</td>\n",
       "      <td>Sul</td>\n",
       "    </tr>\n",
       "    <tr>\n",
       "      <th>108610</th>\n",
       "      <td>Paraná</td>\n",
       "      <td>678.0</td>\n",
       "      <td>Particular Permanente</td>\n",
       "      <td>Casa</td>\n",
       "      <td>Não</td>\n",
       "      <td>Sul</td>\n",
       "    </tr>\n",
       "  </tbody>\n",
       "</table>\n",
       "</div>"
      ],
      "text/plain": [
       "            UF   V4621                  V0201 V0202 V02322 Regiao\n",
       "108606  Paraná  1650.0  Particular Permanente  Casa    Sim    Sul\n",
       "108607  Paraná   400.0  Particular Permanente  Casa    Não    Sul\n",
       "108608  Paraná   833.0  Particular Permanente  Casa    Não    Sul\n",
       "108609  Paraná   347.0  Particular Permanente  Casa    Não    Sul\n",
       "108610  Paraná   678.0  Particular Permanente  Casa    Não    Sul"
      ]
     },
     "execution_count": 39,
     "metadata": {},
     "output_type": "execute_result"
    }
   ],
   "source": [
    "tabelasul= dadosfiltrados[dadosfiltrados.Regiao=='Sul']\n",
    "tabelasul.head()"
   ]
  },
  {
   "cell_type": "code",
   "execution_count": 40,
   "metadata": {},
   "outputs": [
    {
     "data": {
      "text/plain": [
       "<matplotlib.text.Text at 0x2719db40e80>"
      ]
     },
     "execution_count": 40,
     "metadata": {},
     "output_type": "execute_result"
    },
    {
     "data": {
      "image/png": "[encoded data removed]",
      "text/plain": [
       "<matplotlib.figure.Figure at 0x2719db1acc0>"
      ]
     },
     "metadata": {},
     "output_type": "display_data"
    }
   ],
   "source": [
    "plt.subplot(121)\n",
    "tabelasul1= tabelasul.V02322.value_counts()\n",
    "tabelasul1.plot(kind='pie', colors=('blue','red'), autopct=\"%0.2f\",legend=False)\n",
    "plt.subplot(122)\n",
    "faixa = range(10,5000,500)\n",
    "renda_Sul = pd.cut(tabelasul.V4621, bins=faixa)\n",
    "renda_Sul.value_counts(sort=False, normalize=True)*100\n",
    "plot = tabelasul.V4621.plot.hist(bins=faixa,title='Gráfico de Renda sul', figsize=(6, 6), alpha=0.9)\n",
    "plt.ylabel('Frequência absoluta')\n",
    "plt.xlabel('renda (em reais)')"
   ]
  },
  {
   "cell_type": "code",
   "execution_count": 41,
   "metadata": {},
   "outputs": [
    {
     "data": {
      "text/html": [
       "<div>\n",
       "<table border=\"1\" class=\"dataframe\">\n",
       "  <thead>\n",
       "    <tr style=\"text-align: right;\">\n",
       "      <th></th>\n",
       "      <th>UF</th>\n",
       "      <th>V4621</th>\n",
       "      <th>V0201</th>\n",
       "      <th>V0202</th>\n",
       "      <th>V02322</th>\n",
       "      <th>Regiao</th>\n",
       "    </tr>\n",
       "  </thead>\n",
       "  <tbody>\n",
       "    <tr>\n",
       "      <th>132718</th>\n",
       "      <td>Mato Grosso do Sul</td>\n",
       "      <td>5000.0</td>\n",
       "      <td>Particular Permanente</td>\n",
       "      <td>Casa</td>\n",
       "      <td>Não</td>\n",
       "      <td>Centroeste</td>\n",
       "    </tr>\n",
       "    <tr>\n",
       "      <th>132720</th>\n",
       "      <td>Mato Grosso do Sul</td>\n",
       "      <td>760.0</td>\n",
       "      <td>Particular Permanente</td>\n",
       "      <td>Casa</td>\n",
       "      <td>Sim</td>\n",
       "      <td>Centroeste</td>\n",
       "    </tr>\n",
       "    <tr>\n",
       "      <th>132721</th>\n",
       "      <td>Mato Grosso do Sul</td>\n",
       "      <td>364.0</td>\n",
       "      <td>Particular Permanente</td>\n",
       "      <td>Casa</td>\n",
       "      <td>Não</td>\n",
       "      <td>Centroeste</td>\n",
       "    </tr>\n",
       "    <tr>\n",
       "      <th>132722</th>\n",
       "      <td>Mato Grosso do Sul</td>\n",
       "      <td>1300.0</td>\n",
       "      <td>Particular Permanente</td>\n",
       "      <td>Casa</td>\n",
       "      <td>Sim</td>\n",
       "      <td>Centroeste</td>\n",
       "    </tr>\n",
       "    <tr>\n",
       "      <th>132723</th>\n",
       "      <td>Mato Grosso do Sul</td>\n",
       "      <td>4339.0</td>\n",
       "      <td>Particular Permanente</td>\n",
       "      <td>Casa</td>\n",
       "      <td>Sim</td>\n",
       "      <td>Centroeste</td>\n",
       "    </tr>\n",
       "  </tbody>\n",
       "</table>\n",
       "</div>"
      ],
      "text/plain": [
       "                        UF   V4621                  V0201 V0202 V02322  \\\n",
       "132718  Mato Grosso do Sul  5000.0  Particular Permanente  Casa    Não   \n",
       "132720  Mato Grosso do Sul   760.0  Particular Permanente  Casa    Sim   \n",
       "132721  Mato Grosso do Sul   364.0  Particular Permanente  Casa    Não   \n",
       "132722  Mato Grosso do Sul  1300.0  Particular Permanente  Casa    Sim   \n",
       "132723  Mato Grosso do Sul  4339.0  Particular Permanente  Casa    Sim   \n",
       "\n",
       "            Regiao  \n",
       "132718  Centroeste  \n",
       "132720  Centroeste  \n",
       "132721  Centroeste  \n",
       "132722  Centroeste  \n",
       "132723  Centroeste  "
      ]
     },
     "execution_count": 41,
     "metadata": {},
     "output_type": "execute_result"
    }
   ],
   "source": [
    "tabelacentroeste= dadosfiltrados[dadosfiltrados.Regiao=='Centroeste']\n",
    "tabelacentroeste.head()"
   ]
  },
  {
   "cell_type": "code",
   "execution_count": 42,
   "metadata": {},
   "outputs": [
    {
     "data": {
      "text/plain": [
       "<matplotlib.text.Text at 0x2719dd7cef0>"
      ]
     },
     "execution_count": 42,
     "metadata": {},
     "output_type": "execute_result"
    },
    {
     "data": {
      "image/png": "[encoded data removed]",
      "text/plain": [
       "<matplotlib.figure.Figure at 0x2719dd41c18>"
      ]
     },
     "metadata": {},
     "output_type": "display_data"
    }
   ],
   "source": [
    "plt.subplot(121)\n",
    "tabelacentroeste1= tabelacentroeste.V02322.value_counts()\n",
    "tabelacentroeste1.plot(kind='pie', colors=('blue','red'), autopct=\"%0.2f\",legend=False)\n",
    "plt.subplot(122)\n",
    "faixa = range(10,5000,500)\n",
    "renda_Sul = pd.cut(tabelasul.V4621, bins=faixa)\n",
    "renda_Sul.value_counts(sort=False, normalize=True)*100\n",
    "plot = tabelasul.V4621.plot.hist(bins=faixa,title='Gráfico de Renda Sul', figsize=(6, 6), alpha=0.9)\n",
    "plt.ylabel('Frequência absoluta')\n",
    "plt.xlabel('renda (em reais)')"
   ]
  },
  {
   "cell_type": "code",
   "execution_count": 43,
   "metadata": {
    "collapsed": true
   },
   "outputs": [],
   "source": [
    "#fazer a media das rendas de cada regiao"
   ]
  },
  {
   "cell_type": "code",
   "execution_count": 44,
   "metadata": {},
   "outputs": [
    {
     "data": {
      "text/plain": [
       "790.1725382003395"
      ]
     },
     "execution_count": 44,
     "metadata": {},
     "output_type": "execute_result"
    }
   ],
   "source": [
    "#regiao norte\n",
    "tabelanorte['V4621'].mean()"
   ]
  },
  {
   "cell_type": "code",
   "execution_count": 45,
   "metadata": {},
   "outputs": [
    {
     "data": {
      "text/plain": [
       "789.7048248568542"
      ]
     },
     "execution_count": 45,
     "metadata": {},
     "output_type": "execute_result"
    }
   ],
   "source": [
    "#regiao nordeste\n",
    "tabelanordeste['V4621'].mean()"
   ]
  },
  {
   "cell_type": "code",
   "execution_count": 46,
   "metadata": {},
   "outputs": [
    {
     "data": {
      "text/plain": [
       "1330.331291310656"
      ]
     },
     "execution_count": 46,
     "metadata": {},
     "output_type": "execute_result"
    }
   ],
   "source": [
    "#regiao sudeste\n",
    "tabelasudeste['V4621'].mean()"
   ]
  },
  {
   "cell_type": "code",
   "execution_count": 47,
   "metadata": {},
   "outputs": [
    {
     "data": {
      "text/plain": [
       "1396.3934637021162"
      ]
     },
     "execution_count": 47,
     "metadata": {},
     "output_type": "execute_result"
    }
   ],
   "source": [
    "#regiao sul\n",
    "tabelasul['V4621'].mean()"
   ]
  },
  {
   "cell_type": "code",
   "execution_count": 48,
   "metadata": {},
   "outputs": [
    {
     "data": {
      "text/plain": [
       "1402.8898111289914"
      ]
     },
     "execution_count": 48,
     "metadata": {},
     "output_type": "execute_result"
    }
   ],
   "source": [
    "#regiao centroeste\n",
    "tabelacentroeste['V4621'].mean()"
   ]
  },
  {
   "cell_type": "code",
   "execution_count": 49,
   "metadata": {},
   "outputs": [
    {
     "data": {
      "text/plain": [
       "<matplotlib.axes._subplots.AxesSubplot at 0x2719de18550>"
      ]
     },
     "execution_count": 49,
     "metadata": {},
     "output_type": "execute_result"
    },
    {
     "data": {
      "image/png": "[encoded data removed]",
      "text/plain": [
       "<matplotlib.figure.Figure at 0x2719de2aef0>"
      ]
     },
     "metadata": {},
     "output_type": "display_data"
    }
   ],
   "source": [
    "dadosfiltrados.boxplot(column=\"V4621\",  by=\"Regiao\", figsize=(10,10))"
   ]
  },
  {
   "cell_type": "code",
   "execution_count": 2,
   "metadata": {
    "collapsed": true
   },
   "outputs": [],
   "source": [
    "#histogtama de cada regiao por renda"
   ]
  },
  {
   "cell_type": "markdown",
   "metadata": {},
   "source": [
    "___\n",
    "## Conclusão "
   ]
  },
  {
   "cell_type": "markdown",
   "metadata": {
    "collapsed": true
   },
   "source": [
    "Descreva aqui suas conclusões!"
   ]
  },
  {
   "cell_type": "code",
   "execution_count": null,
   "metadata": {
    "collapsed": true
   },
   "outputs": [],
   "source": []
  },
  {
   "cell_type": "code",
   "execution_count": null,
   "metadata": {
    "collapsed": true
   },
   "outputs": [],
   "source": []
  }
 ],
 "metadata": {
  "anaconda-cloud": {},
  "kernelspec": {
   "display_name": "Python 3",
   "language": "python",
   "name": "python3"
  },
  "language_info": {
   "codemirror_mode": {
    "name": "ipython",
    "version": 3
   },
   "file_extension": ".py",
   "mimetype": "text/x-python",
   "name": "python",
   "nbconvert_exporter": "python",
   "pygments_lexer": "ipython3",
   "version": "3.6.0"
  }
 },
 "nbformat": 4,
 "nbformat_minor": 1
}
